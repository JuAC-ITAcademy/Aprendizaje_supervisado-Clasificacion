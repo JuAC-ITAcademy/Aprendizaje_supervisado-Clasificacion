{
 "cells": [
  {
   "cell_type": "markdown",
   "id": "third-subscriber",
   "metadata": {},
   "source": [
    "# Aprendizaje Supervisado - Clasificación\n",
    "\n",
    "**_Descripció_**\n",
    "\n",
    "Anem a practicar i a familiaritzar-nos amb algoritmes de classificació.\n",
    "\n",
    "\n"
   ]
  },
  {
   "cell_type": "code",
   "execution_count": 1,
   "id": "deadly-movement",
   "metadata": {},
   "outputs": [],
   "source": [
    "# Librerías\n",
    "\n",
    "# Data wrangling\n",
    "#--------------------------------------------------\n",
    "\n",
    "import numpy as np\n",
    "import pandas as pd\n",
    "\n",
    "import missingno as msno \n",
    "\n",
    "# Data Visualization\n",
    "#--------------------------------------------------\n",
    "\n",
    "%matplotlib inline\n",
    "import matplotlib.pyplot as plt\n",
    "import seaborn as sns\n",
    "\n",
    "# Data Preprocessing\n",
    "#--------------------------------------------------\n",
    "from sklearn.impute import SimpleImputer\n",
    "from sklearn.preprocessing import OrdinalEncoder\n",
    "from sklearn.preprocessing import StandardScaler, PolynomialFeatures\n",
    "from sklearn.model_selection import train_test_split\n",
    "\n",
    "import category_encoders as ce\n",
    "\n",
    "# Clasification\n",
    "#--------------------------------------------------\n",
    "from sklearn.linear_model import LogisticRegression\n",
    "from sklearn.tree import DecisionTreeClassifier\n",
    "from sklearn.naive_bayes import GaussianNB\n",
    "\n",
    "# Pipelines / Cross validation / Hyp. tunning\n",
    "#--------------------------------------------------\n",
    "from sklearn.model_selection import cross_val_score\n",
    "from sklearn.model_selection import RandomizedSearchCV, GridSearchCV\n",
    "from sklearn.pipeline import Pipeline\n",
    "\n",
    "# Metrics\n",
    "#--------------------------------------------------\n",
    "from sklearn.metrics import accuracy_score, confusion_matrix, roc_auc_score, recall_score\n",
    "from sklearn.metrics import precision_score,f1_score,classification_report\n"
   ]
  },
  {
   "cell_type": "markdown",
   "id": "equipped-missile",
   "metadata": {},
   "source": [
    "## Nivell 1\n",
    "### Exercici 1\n",
    "\n",
    "Crea almenys tres models de classificació diferents per intentar predir el millor possible l’endarreriment dels vols (ArrDelay) de DelayedFlights.csv.\n",
    "\n",
    "### Exercici 2\n",
    "\n",
    "Crea una nova variable segons si el vol ha arribat tard o no (ArrDelay > 0).\n",
    "\n",
    "### Exercici 3\n",
    "\n",
    "Compara els models de classificació utilitzant la precisió (accuracy), una matriu de confiança i d’altres mètriques més avançades.\n",
    "\n",
    "### Exercici 4\n",
    "\n",
    "Entrena’ls utilitzant els diferents paràmetres que admeten.\n",
    "\n",
    "### Exercici 5\n",
    "\n",
    "Compara el seu rendiment utilitzant l’aproximació traint/test o utilitzant totes les dades (validació interna).\n",
    "\n",
    "---\n",
    "---\n"
   ]
  },
  {
   "cell_type": "markdown",
   "id": "unlikely-share",
   "metadata": {},
   "source": [
    "Como hice en el ejercicio de regresiones, para los primeros ejercicios voy a seguir el siguiente flujo:\n",
    " 1. Cargar los archivos.\n",
    " 2. Preprocesado. \n",
    "  - 2.1. Creación de Nuevas variables. \n",
    "  - 2.2. Tratamiento missing values.\n",
    "  - 2.3. EDA / Correlación de variables.\n",
    "  - 2.4. Tratamiento de variables categóricas.\n",
    " 3. Instaciación y ajuste de modelos.\n",
    " 4. Evaluación de los modelos.\n",
    " "
   ]
  },
  {
   "cell_type": "markdown",
   "id": "intended-borough",
   "metadata": {},
   "source": [
    "## 1. Carga de los archivos.\n"
   ]
  },
  {
   "cell_type": "code",
   "execution_count": 2,
   "id": "scheduled-chancellor",
   "metadata": {},
   "outputs": [],
   "source": [
    "# Loading CSV\n",
    "df=pd.read_csv('vuelos_final.csv')"
   ]
  },
  {
   "cell_type": "code",
   "execution_count": 3,
   "id": "intensive-foundation",
   "metadata": {},
   "outputs": [
    {
     "name": "stdout",
     "output_type": "stream",
     "text": [
      "<class 'pandas.core.frame.DataFrame'>\n",
      "RangeIndex: 1936756 entries, 0 to 1936755\n",
      "Data columns (total 32 columns):\n",
      " #   Column             Dtype  \n",
      "---  ------             -----  \n",
      " 0   Date               object \n",
      " 1   DayOfYear          int64  \n",
      " 2   Year               int64  \n",
      " 3   Month              int64  \n",
      " 4   Day                int64  \n",
      " 5   DayOfWeek          int64  \n",
      " 6   Hour               int64  \n",
      " 7   Status             object \n",
      " 8   ArrDelay           float64\n",
      " 9   DepDelay           float64\n",
      " 10  TaxiIn             float64\n",
      " 11  TaxiOut            float64\n",
      " 12  CancellationCode   object \n",
      " 13  UniqueCarrier      object \n",
      " 14  CarrierName        object \n",
      " 15  TailNum            object \n",
      " 16  YearOfManufact     float64\n",
      " 17  Origin             object \n",
      " 18  Dest               object \n",
      " 19  FlightNum          int64  \n",
      " 20  Distance           int64  \n",
      " 21  Skyway             object \n",
      " 22  city_or            object \n",
      " 23  state_or           object \n",
      " 24  country            object \n",
      " 25  city_dest          object \n",
      " 26  state_dest         object \n",
      " 27  CarrierDelay       float64\n",
      " 28  WeatherDelay       float64\n",
      " 29  NASDelay           float64\n",
      " 30  SecurityDelay      float64\n",
      " 31  LateAircraftDelay  float64\n",
      "dtypes: float64(10), int64(8), object(14)\n",
      "memory usage: 472.8+ MB\n"
     ]
    }
   ],
   "source": [
    "df.info()"
   ]
  },
  {
   "cell_type": "markdown",
   "id": "shared-rebel",
   "metadata": {},
   "source": [
    "## 2. Preprocesado.\n",
    "### 2.1. Creación de nuevas variables.\n",
    "\n",
    "Voy a crear una nueva variables que nos indiquen el número de vuelos por hora y aeropuerto.\n"
   ]
  },
  {
   "cell_type": "code",
   "execution_count": 4,
   "id": "cellular-geneva",
   "metadata": {},
   "outputs": [],
   "source": [
    "# New feature - Number of flights por hour on origin\n",
    "df=df.join(df.groupby(['Origin','Date','Hour'])[['FlightNum']].count(),\n",
    "           how='left',\n",
    "           on=['Origin','Date','Hour'],\n",
    "           rsuffix='_h')\n",
    "df.rename(columns={'FlightNum_h':'flights_hour'}, inplace=True)"
   ]
  },
  {
   "cell_type": "markdown",
   "id": "nervous-sandwich",
   "metadata": {},
   "source": [
    "Elimino variables como:\n",
    "\n",
    " - Date,Year\n",
    " - CancellationCode.\n",
    " - CarrierName, TailNum, FlightNum.\n",
    " - city_or, state_or, city_dest, state_dest, country."
   ]
  },
  {
   "cell_type": "code",
   "execution_count": 5,
   "id": "saving-surge",
   "metadata": {},
   "outputs": [],
   "source": [
    "# Drop features\n",
    "df.drop(axis=1,columns=['Date','Year','CancellationCode','CarrierName','TailNum','FlightNum',\n",
    "                        'city_or','state_or','city_dest','state_dest','country'], inplace=True)"
   ]
  },
  {
   "cell_type": "code",
   "execution_count": 6,
   "id": "hindu-capture",
   "metadata": {},
   "outputs": [
    {
     "name": "stdout",
     "output_type": "stream",
     "text": [
      "<class 'pandas.core.frame.DataFrame'>\n",
      "RangeIndex: 1936756 entries, 0 to 1936755\n",
      "Data columns (total 22 columns):\n",
      " #   Column             Dtype  \n",
      "---  ------             -----  \n",
      " 0   DayOfYear          int64  \n",
      " 1   Month              int64  \n",
      " 2   Day                int64  \n",
      " 3   DayOfWeek          int64  \n",
      " 4   Hour               int64  \n",
      " 5   Status             object \n",
      " 6   ArrDelay           float64\n",
      " 7   DepDelay           float64\n",
      " 8   TaxiIn             float64\n",
      " 9   TaxiOut            float64\n",
      " 10  UniqueCarrier      object \n",
      " 11  YearOfManufact     float64\n",
      " 12  Origin             object \n",
      " 13  Dest               object \n",
      " 14  Distance           int64  \n",
      " 15  Skyway             object \n",
      " 16  CarrierDelay       float64\n",
      " 17  WeatherDelay       float64\n",
      " 18  NASDelay           float64\n",
      " 19  SecurityDelay      float64\n",
      " 20  LateAircraftDelay  float64\n",
      " 21  flights_hour       int64  \n",
      "dtypes: float64(10), int64(7), object(5)\n",
      "memory usage: 325.1+ MB\n"
     ]
    }
   ],
   "source": [
    "df.info()"
   ]
  },
  {
   "cell_type": "code",
   "execution_count": 7,
   "id": "arabic-smart",
   "metadata": {},
   "outputs": [
    {
     "data": {
      "text/html": [
       "<div>\n",
       "<style scoped>\n",
       "    .dataframe tbody tr th:only-of-type {\n",
       "        vertical-align: middle;\n",
       "    }\n",
       "\n",
       "    .dataframe tbody tr th {\n",
       "        vertical-align: top;\n",
       "    }\n",
       "\n",
       "    .dataframe thead th {\n",
       "        text-align: right;\n",
       "    }\n",
       "</style>\n",
       "<table border=\"1\" class=\"dataframe\">\n",
       "  <thead>\n",
       "    <tr style=\"text-align: right;\">\n",
       "      <th></th>\n",
       "      <th>DayOfYear</th>\n",
       "      <th>Month</th>\n",
       "      <th>Day</th>\n",
       "      <th>DayOfWeek</th>\n",
       "      <th>Hour</th>\n",
       "      <th>Status</th>\n",
       "      <th>ArrDelay</th>\n",
       "      <th>DepDelay</th>\n",
       "      <th>TaxiIn</th>\n",
       "      <th>TaxiOut</th>\n",
       "      <th>...</th>\n",
       "      <th>Origin</th>\n",
       "      <th>Dest</th>\n",
       "      <th>Distance</th>\n",
       "      <th>Skyway</th>\n",
       "      <th>CarrierDelay</th>\n",
       "      <th>WeatherDelay</th>\n",
       "      <th>NASDelay</th>\n",
       "      <th>SecurityDelay</th>\n",
       "      <th>LateAircraftDelay</th>\n",
       "      <th>flights_hour</th>\n",
       "    </tr>\n",
       "  </thead>\n",
       "  <tbody>\n",
       "    <tr>\n",
       "      <th>498108</th>\n",
       "      <td>75</td>\n",
       "      <td>3</td>\n",
       "      <td>15</td>\n",
       "      <td>6</td>\n",
       "      <td>14</td>\n",
       "      <td>Delayed</td>\n",
       "      <td>20.0</td>\n",
       "      <td>17.0</td>\n",
       "      <td>6.0</td>\n",
       "      <td>12.0</td>\n",
       "      <td>...</td>\n",
       "      <td>HNL</td>\n",
       "      <td>OGG</td>\n",
       "      <td>100</td>\n",
       "      <td>HNL-OGG</td>\n",
       "      <td>17.0</td>\n",
       "      <td>0.0</td>\n",
       "      <td>0.0</td>\n",
       "      <td>0.0</td>\n",
       "      <td>3.0</td>\n",
       "      <td>4</td>\n",
       "    </tr>\n",
       "  </tbody>\n",
       "</table>\n",
       "<p>1 rows × 22 columns</p>\n",
       "</div>"
      ],
      "text/plain": [
       "        DayOfYear  Month  Day  DayOfWeek  Hour   Status  ArrDelay  DepDelay  \\\n",
       "498108         75      3   15          6    14  Delayed      20.0      17.0   \n",
       "\n",
       "        TaxiIn  TaxiOut  ... Origin  Dest Distance   Skyway  CarrierDelay  \\\n",
       "498108     6.0     12.0  ...    HNL   OGG      100  HNL-OGG          17.0   \n",
       "\n",
       "       WeatherDelay  NASDelay  SecurityDelay  LateAircraftDelay  flights_hour  \n",
       "498108          0.0       0.0            0.0                3.0             4  \n",
       "\n",
       "[1 rows x 22 columns]"
      ]
     },
     "execution_count": 7,
     "metadata": {},
     "output_type": "execute_result"
    }
   ],
   "source": [
    "# Duplicados\n",
    "df[df.duplicated()]"
   ]
  },
  {
   "cell_type": "code",
   "execution_count": 8,
   "id": "fancy-contribution",
   "metadata": {},
   "outputs": [],
   "source": [
    "# Elimino duplicados\n",
    "df.drop_duplicates(inplace=True);"
   ]
  },
  {
   "cell_type": "markdown",
   "id": "discrete-defeat",
   "metadata": {},
   "source": [
    "### 2.2. Tratamiento de valores nulos."
   ]
  },
  {
   "cell_type": "code",
   "execution_count": 9,
   "id": "honest-parameter",
   "metadata": {},
   "outputs": [
    {
     "data": {
      "image/png": "[encoded data removed]",
      "text/plain": [
       "<Figure size 1800x720 with 2 Axes>"
      ]
     },
     "metadata": {
      "needs_background": "light"
     },
     "output_type": "display_data"
    }
   ],
   "source": [
    "# Missing Values\n",
    "msno.matrix(df);"
   ]
  },
  {
   "cell_type": "code",
   "execution_count": 10,
   "id": "packed-safety",
   "metadata": {},
   "outputs": [
    {
     "data": {
      "text/plain": [
       "DayOfYear                 0\n",
       "Month                     0\n",
       "Day                       0\n",
       "DayOfWeek                 0\n",
       "Hour                      0\n",
       "Status                    0\n",
       "ArrDelay               8387\n",
       "DepDelay                  0\n",
       "TaxiIn                 7110\n",
       "TaxiOut                 455\n",
       "UniqueCarrier             0\n",
       "YearOfManufact       198385\n",
       "Origin                    0\n",
       "Dest                      0\n",
       "Distance                  0\n",
       "Skyway                    0\n",
       "CarrierDelay         689270\n",
       "WeatherDelay         689270\n",
       "NASDelay             689270\n",
       "SecurityDelay        689270\n",
       "LateAircraftDelay    689270\n",
       "flights_hour              0\n",
       "dtype: int64"
      ]
     },
     "execution_count": 10,
     "metadata": {},
     "output_type": "execute_result"
    }
   ],
   "source": [
    "df.isna().sum()"
   ]
  },
  {
   "cell_type": "markdown",
   "id": "sized-athens",
   "metadata": {},
   "source": [
    "Tenemos tres conjuntos de valores nulos, que trataremos de manera diferente:\n",
    " 1. Valores asociados a vuelos cancelados o desviados en las variables ArrDelay, DepDelay, TaxiIn y TaxiOut. Eliminaremos las filas de vuelos cancelados o desviados.\n",
    " 2. Valores nulos asociados al año de fabricación. Imputaremos la media.\n",
    " 3. Valores asociados a vuelos a tiempo. Imputaremos valor constante igual a cero."
   ]
  },
  {
   "cell_type": "code",
   "execution_count": 11,
   "id": "maritime-rendering",
   "metadata": {},
   "outputs": [
    {
     "data": {
      "text/plain": [
       "array(['On time', 'Delayed', 'Highly Delayed'], dtype=object)"
      ]
     },
     "execution_count": 11,
     "metadata": {},
     "output_type": "execute_result"
    }
   ],
   "source": [
    "# Delaying Nan in Taxi In, Taxi Out and ArrDelay\n",
    "df.drop(index=df[(df.Status=='Cancelled') | (df.Status=='Diverted')].index,\n",
    "        axis=0,inplace=True)\n",
    "df.Status.unique()"
   ]
  },
  {
   "cell_type": "code",
   "execution_count": 12,
   "id": "initial-amsterdam",
   "metadata": {},
   "outputs": [],
   "source": [
    "# Mean imputing for year of manufacturing\n",
    "\n",
    "# Instantiate imputer\n",
    "year_imputer=SimpleImputer(strategy='mean')\n",
    "\n",
    "# Executing imputation\n",
    "df.YearOfManufact=year_imputer.fit_transform(df.YearOfManufact.values.reshape(-1,1))"
   ]
  },
  {
   "cell_type": "code",
   "execution_count": 13,
   "id": "streaming-finland",
   "metadata": {},
   "outputs": [],
   "source": [
    "# Zero imputing for Delay Causes\n",
    "\n",
    "# Instantiate imputer\n",
    "causes_imputer=SimpleImputer(strategy='constant', fill_value=0)\n",
    "\n",
    "# Executing imputation\n",
    "causes=['CarrierDelay','WeatherDelay','NASDelay','SecurityDelay','LateAircraftDelay']\n",
    "df[causes]=causes_imputer.fit_transform(df[causes])"
   ]
  },
  {
   "cell_type": "code",
   "execution_count": 14,
   "id": "stuffed-quarter",
   "metadata": {},
   "outputs": [
    {
     "data": {
      "text/plain": [
       "0"
      ]
     },
     "execution_count": 14,
     "metadata": {},
     "output_type": "execute_result"
    }
   ],
   "source": [
    "df.isna().sum().sum()"
   ]
  },
  {
   "cell_type": "markdown",
   "id": "electoral-parking",
   "metadata": {},
   "source": [
    "### 2.3. Variable Target.\n",
    "\n",
    "Como enfrentamos a un ejercicio de clasificación, es necesario definir una variable objetivo. ara este conjunto de datos, la variable Status se ajusta a lo que estamos buscando.\n",
    "\n",
    "Sin embargo, Status tiene tres categorías, a tiempo, retrasado y muy retrasado, para simplificar el problema y convertirlo en una clasificacion binaria, voy a transformar las categorías en a tiempo y retrasado, uniendo restrasado y muy retrasado."
   ]
  },
  {
   "cell_type": "code",
   "execution_count": 15,
   "id": "devoted-yorkshire",
   "metadata": {},
   "outputs": [],
   "source": [
    "df.loc[df.Status=='Highly Delayed','Status']='Delayed'"
   ]
  },
  {
   "cell_type": "code",
   "execution_count": 16,
   "id": "attached-wrapping",
   "metadata": {},
   "outputs": [
    {
     "data": {
      "text/plain": [
       "array(['On time', 'Delayed'], dtype=object)"
      ]
     },
     "execution_count": 16,
     "metadata": {},
     "output_type": "execute_result"
    }
   ],
   "source": [
    "df.Status.unique()"
   ]
  },
  {
   "cell_type": "markdown",
   "id": "expressed-category",
   "metadata": {},
   "source": [
    "Por último para que los algoritmos puedan entender la variable objetivo necesito codificar la variable Status en una variable binaria. \n",
    "\n",
    "Esto lo puedo hacer de diferentes formas, \n",
    "1. Aplicar la transformación con la función map de pandas.\n",
    "2. Utilizar LabelEncoder de Scikit-Learn para transformar la variable.\n",
    "\n",
    "Como estamos haciendo un ejercicio de clasificación con Scikit Learn voy a utilizar LabelEncoder para codificar la variable. Vamos a ver como se haría la transformación:"
   ]
  },
  {
   "cell_type": "code",
   "execution_count": 17,
   "id": "corrected-appointment",
   "metadata": {},
   "outputs": [],
   "source": [
    "from sklearn.preprocessing import LabelEncoder"
   ]
  },
  {
   "cell_type": "code",
   "execution_count": 18,
   "id": "universal-tulsa",
   "metadata": {},
   "outputs": [],
   "source": [
    "# Instancio la transformacion\n",
    "target_encoder=LabelEncoder()\n",
    "\n",
    "# Ejecuto la transformación\n",
    "df.Status=target_encoder.fit_transform(df.Status)"
   ]
  },
  {
   "cell_type": "code",
   "execution_count": 19,
   "id": "answering-blank",
   "metadata": {},
   "outputs": [
    {
     "data": {
      "text/plain": [
       "0    1\n",
       "1    1\n",
       "2    1\n",
       "3    0\n",
       "4    1\n",
       "Name: Status, dtype: int32"
      ]
     },
     "execution_count": 19,
     "metadata": {},
     "output_type": "execute_result"
    }
   ],
   "source": [
    "df.Status.head(5)"
   ]
  },
  {
   "cell_type": "markdown",
   "id": "disabled-bryan",
   "metadata": {},
   "source": [
    "Hemos convertido la variable Status en un array de ceros y unos, pero... ¿como puedo revisar a que variable a asignado cada valor?."
   ]
  },
  {
   "cell_type": "code",
   "execution_count": 20,
   "id": "suffering-president",
   "metadata": {},
   "outputs": [
    {
     "data": {
      "text/plain": [
       "array(['Delayed', 'On time'], dtype=object)"
      ]
     },
     "execution_count": 20,
     "metadata": {},
     "output_type": "execute_result"
    }
   ],
   "source": [
    "target_encoder.inverse_transform(np.array([0,1]))"
   ]
  },
  {
   "cell_type": "markdown",
   "id": "boolean-trigger",
   "metadata": {},
   "source": [
    "Si quiero revertir la transformación solo tengo que utlizar la función **inverse_transform**."
   ]
  },
  {
   "cell_type": "markdown",
   "id": "earlier-basis",
   "metadata": {},
   "source": [
    "### 2.4. Correlation Matrix"
   ]
  },
  {
   "cell_type": "code",
   "execution_count": 21,
   "id": "average-ottawa",
   "metadata": {},
   "outputs": [
    {
     "data": {
      "image/png": "[encoded data removed]",
      "text/plain": [
       "<Figure size 1296x576 with 2 Axes>"
      ]
     },
     "metadata": {
      "needs_background": "light"
     },
     "output_type": "display_data"
    }
   ],
   "source": [
    "\n",
    "# Matriz de correlación de las variables numéricas\n",
    "#---------------------------------------------------------------------------\n",
    "fig, axes = plt.subplots(figsize=(18, 8))\n",
    "\n",
    "sns.heatmap(df.corr(),\n",
    "           vmin=-1.0,\n",
    "           vmax=1.0,\n",
    "           annot=True, fmt='.3f',\n",
    "           mask=np.tri(len(df.corr()),len(df.corr()),k=-1,dtype=bool).T,\n",
    "           cmap='RdBu_r');"
   ]
  },
  {
   "cell_type": "markdown",
   "id": "blank-progress",
   "metadata": {},
   "source": [
    "Como habíamos visto, DepDelay y ArrDelay están muy correlacionada. \n",
    "\n",
    "Status tiene una correlación negativa mediana con variables de retrasi y con los tiempos en tierra. En este caso cuando hay retraso el valor es cero y si está en tiempo el valor es uno, por lo tanto cuanto mayor son los valores de retraso menor es el valor de status."
   ]
  },
  {
   "cell_type": "markdown",
   "id": "searching-anxiety",
   "metadata": {},
   "source": [
    "### 2.5. Categorical features.\n",
    "\n",
    "Tenemos 4 variables categóricas con un elevado número de clases (303 aeropuertos de destino o más de 5000 rutas). Para la transformación numérica de estas variables utilizaré el método OrdinalEncoder, que asigna valores numéricos dando un orden a cada categoría. Creo que utilizar OneHotEncoding generaría un dataset con muchas features que dificultarñia el trabajo de computación. \n",
    "\n",
    "En la última parte del ejercicio probaré una aproximación diferente para codificar las variables categóricas."
   ]
  },
  {
   "cell_type": "code",
   "execution_count": 22,
   "id": "canadian-pocket",
   "metadata": {},
   "outputs": [],
   "source": [
    "# Declarar variables\n",
    "geo=['UniqueCarrier','Origin','Dest','Skyway']"
   ]
  },
  {
   "cell_type": "code",
   "execution_count": 23,
   "id": "incorporated-spanking",
   "metadata": {},
   "outputs": [],
   "source": [
    "#  Label encoding for Origin\n",
    "# Instanciar encoder\n",
    "geo_encoding=OrdinalEncoder()\n",
    "\n",
    "# Transformar variables\n",
    "df[geo]=geo_encoding.fit_transform(df[geo])"
   ]
  },
  {
   "cell_type": "code",
   "execution_count": 24,
   "id": "sunset-basement",
   "metadata": {},
   "outputs": [
    {
     "name": "stdout",
     "output_type": "stream",
     "text": [
      "<class 'pandas.core.frame.DataFrame'>\n",
      "Int64Index: 1928368 entries, 0 to 1936755\n",
      "Data columns (total 22 columns):\n",
      " #   Column             Dtype  \n",
      "---  ------             -----  \n",
      " 0   DayOfYear          int64  \n",
      " 1   Month              int64  \n",
      " 2   Day                int64  \n",
      " 3   DayOfWeek          int64  \n",
      " 4   Hour               int64  \n",
      " 5   Status             int32  \n",
      " 6   ArrDelay           float64\n",
      " 7   DepDelay           float64\n",
      " 8   TaxiIn             float64\n",
      " 9   TaxiOut            float64\n",
      " 10  UniqueCarrier      float64\n",
      " 11  YearOfManufact     float64\n",
      " 12  Origin             float64\n",
      " 13  Dest               float64\n",
      " 14  Distance           int64  \n",
      " 15  Skyway             float64\n",
      " 16  CarrierDelay       float64\n",
      " 17  WeatherDelay       float64\n",
      " 18  NASDelay           float64\n",
      " 19  SecurityDelay      float64\n",
      " 20  LateAircraftDelay  float64\n",
      " 21  flights_hour       int64  \n",
      "dtypes: float64(14), int32(1), int64(7)\n",
      "memory usage: 331.0 MB\n"
     ]
    }
   ],
   "source": [
    "df.info()"
   ]
  },
  {
   "cell_type": "markdown",
   "id": "solid-indianapolis",
   "metadata": {},
   "source": [
    "## 3. Instanciación y ajuste de modelos."
   ]
  },
  {
   "cell_type": "markdown",
   "id": "minor-credit",
   "metadata": {},
   "source": [
    "Eliminaré las variables de causa de retraso por que Status se creó a partir de ellas y el modelo tendría siempre un ajuste perfecto."
   ]
  },
  {
   "cell_type": "code",
   "execution_count": 25,
   "id": "clinical-longitude",
   "metadata": {},
   "outputs": [],
   "source": [
    "# Preparación del dataset\n",
    "X=df.drop(columns=['Month','Day','ArrDelay','Status', 'CarrierDelay','WeatherDelay','NASDelay','SecurityDelay','LateAircraftDelay'])\n",
    "y=df.Status"
   ]
  },
  {
   "cell_type": "markdown",
   "id": "uniform-antigua",
   "metadata": {},
   "source": [
    "A continuación creo los conjuntos de entrenamiento y test y además voy a definir una función que calcule diferentes métricas."
   ]
  },
  {
   "cell_type": "code",
   "execution_count": 26,
   "id": "checked-flesh",
   "metadata": {},
   "outputs": [],
   "source": [
    "# Train Test Split\n",
    "X_train, X_test, y_train, y_test = train_test_split(X,y,random_state=1984,test_size=0.3)"
   ]
  },
  {
   "cell_type": "code",
   "execution_count": 27,
   "id": "coordinated-spare",
   "metadata": {},
   "outputs": [],
   "source": [
    "# Funcion para automatizar el cálculo de las métricas"
   ]
  },
  {
   "cell_type": "code",
   "execution_count": 28,
   "id": "charged-dylan",
   "metadata": {},
   "outputs": [],
   "source": [
    "def metricas(modelo, nombre, X_test, y_test):\n",
    "    y_pred=modelo.predict(X_test)\n",
    "    scores={'model':nombre,\n",
    "            'accuracy':accuracy_score(y_test,y_pred),\n",
    "            'Roc_AUC':roc_auc_score(y_test,y_pred),\n",
    "            'precision':precision_score(y_test,y_pred),\n",
    "            'recall':recall_score(y_test,y_pred),\n",
    "            'f1':f1_score(y_test,y_pred)}\n",
    "    return scores"
   ]
  },
  {
   "cell_type": "code",
   "execution_count": null,
   "id": "animal-bhutan",
   "metadata": {},
   "outputs": [],
   "source": []
  },
  {
   "cell_type": "markdown",
   "id": "sonic-carbon",
   "metadata": {},
   "source": [
    "### 3.1. Regresión logística."
   ]
  },
  {
   "cell_type": "code",
   "execution_count": 29,
   "id": "mobile-element",
   "metadata": {},
   "outputs": [],
   "source": [
    "# Instancia modelo\n",
    "logistica=LogisticRegression()\n",
    "\n",
    "# Instanciar transformacion\n",
    "Scaler=StandardScaler()\n",
    "\n",
    "# Pipeline\n",
    "modelo_1=Pipeline(steps=[('Escalado',Scaler),\n",
    "                         ('Clasificacion',logistica)])\n"
   ]
  },
  {
   "cell_type": "code",
   "execution_count": 30,
   "id": "liable-wheat",
   "metadata": {},
   "outputs": [
    {
     "data": {
      "text/plain": [
       "Pipeline(steps=[('Escalado', StandardScaler()),\n",
       "                ('Clasificacion', LogisticRegression())])"
      ]
     },
     "execution_count": 30,
     "metadata": {},
     "output_type": "execute_result"
    }
   ],
   "source": [
    "modelo_1.fit(X_train,y_train)"
   ]
  },
  {
   "cell_type": "code",
   "execution_count": 31,
   "id": "desperate-expansion",
   "metadata": {},
   "outputs": [
    {
     "data": {
      "text/plain": [
       "{'model': 'Logistica',\n",
       " 'accuracy': 0.8742547678436537,\n",
       " 'Roc_AUC': 0.8690632206449886,\n",
       " 'precision': 0.8038184567995449,\n",
       " 'recall': 0.8514236444514118,\n",
       " 'f1': 0.8269364819180799}"
      ]
     },
     "execution_count": 31,
     "metadata": {},
     "output_type": "execute_result"
    }
   ],
   "source": [
    "m1_scores=metricas(modelo_1,'Logistica',X_test,y_test)\n",
    "m1_scores"
   ]
  },
  {
   "cell_type": "code",
   "execution_count": 32,
   "id": "scenic-fifty",
   "metadata": {},
   "outputs": [
    {
     "data": {
      "text/plain": [
       "array([[331970,  42417],\n",
       "       [ 30328, 173796]], dtype=int64)"
      ]
     },
     "execution_count": 32,
     "metadata": {},
     "output_type": "execute_result"
    }
   ],
   "source": [
    "y_pred=modelo_1.predict(X_test)\n",
    "confusion_matrix(y_test,y_pred)"
   ]
  },
  {
   "cell_type": "code",
   "execution_count": 33,
   "id": "adequate-globe",
   "metadata": {},
   "outputs": [
    {
     "name": "stdout",
     "output_type": "stream",
     "text": [
      "              precision    recall  f1-score   support\n",
      "\n",
      "           0       0.92      0.89      0.90    374387\n",
      "           1       0.80      0.85      0.83    204124\n",
      "\n",
      "    accuracy                           0.87    578511\n",
      "   macro avg       0.86      0.87      0.86    578511\n",
      "weighted avg       0.88      0.87      0.88    578511\n",
      "\n"
     ]
    }
   ],
   "source": [
    "print(classification_report(y_test,y_pred))"
   ]
  },
  {
   "cell_type": "markdown",
   "id": "immediate-given",
   "metadata": {},
   "source": [
    "### 3.2. Clasificador Gausiano. Naive Bayes."
   ]
  },
  {
   "cell_type": "code",
   "execution_count": 34,
   "id": "healthy-suite",
   "metadata": {},
   "outputs": [],
   "source": [
    "# Instancia modelo\n",
    "Gauss=GaussianNB()\n",
    "\n",
    "# Instanciar transformacion\n",
    "Scaler=StandardScaler()\n",
    "\n",
    "# Pipeline\n",
    "modelo_2=Pipeline(steps=[('Escalado',Scaler),\n",
    "                         ('Clasificacion',Gauss)])\n"
   ]
  },
  {
   "cell_type": "code",
   "execution_count": 35,
   "id": "resident-flower",
   "metadata": {},
   "outputs": [
    {
     "data": {
      "text/plain": [
       "Pipeline(steps=[('Escalado', StandardScaler()),\n",
       "                ('Clasificacion', GaussianNB())])"
      ]
     },
     "execution_count": 35,
     "metadata": {},
     "output_type": "execute_result"
    }
   ],
   "source": [
    "modelo_2.fit(X_train,y_train)"
   ]
  },
  {
   "cell_type": "code",
   "execution_count": 36,
   "id": "certified-software",
   "metadata": {},
   "outputs": [],
   "source": [
    "y_pred=modelo_2.predict(X_test)"
   ]
  },
  {
   "cell_type": "code",
   "execution_count": 37,
   "id": "fossil-force",
   "metadata": {},
   "outputs": [
    {
     "data": {
      "text/plain": [
       "{'model': 'Gauss',\n",
       " 'accuracy': 0.8242107755945868,\n",
       " 'Roc_AUC': 0.8455843912635723,\n",
       " 'precision': 0.6879909554084015,\n",
       " 'recall': 0.9182065803139269,\n",
       " 'f1': 0.7866004129664759}"
      ]
     },
     "execution_count": 37,
     "metadata": {},
     "output_type": "execute_result"
    }
   ],
   "source": [
    "m2_scores=metricas(modelo_2,'Gauss',X_test,y_test)\n",
    "m2_scores"
   ]
  },
  {
   "cell_type": "code",
   "execution_count": 38,
   "id": "secondary-peter",
   "metadata": {},
   "outputs": [
    {
     "data": {
      "text/plain": [
       "array([[289387,  85000],\n",
       "       [ 16696, 187428]], dtype=int64)"
      ]
     },
     "execution_count": 38,
     "metadata": {},
     "output_type": "execute_result"
    }
   ],
   "source": [
    "confusion_matrix(y_test,y_pred)"
   ]
  },
  {
   "cell_type": "code",
   "execution_count": 39,
   "id": "usual-survivor",
   "metadata": {},
   "outputs": [
    {
     "name": "stdout",
     "output_type": "stream",
     "text": [
      "              precision    recall  f1-score   support\n",
      "\n",
      "           0       0.95      0.77      0.85    374387\n",
      "           1       0.69      0.92      0.79    204124\n",
      "\n",
      "    accuracy                           0.82    578511\n",
      "   macro avg       0.82      0.85      0.82    578511\n",
      "weighted avg       0.85      0.82      0.83    578511\n",
      "\n"
     ]
    }
   ],
   "source": [
    "print(classification_report(y_test,y_pred))"
   ]
  },
  {
   "cell_type": "markdown",
   "id": "tribal-budapest",
   "metadata": {},
   "source": [
    "### 3.3. Arbol de decision Clasificador."
   ]
  },
  {
   "cell_type": "code",
   "execution_count": 40,
   "id": "fresh-programming",
   "metadata": {},
   "outputs": [],
   "source": [
    "# Instancia modelo\n",
    "arbol=DecisionTreeClassifier()\n",
    "\n",
    "# Pipeline\n",
    "modelo_3=Pipeline(steps=[('Clasificacion',arbol)])\n"
   ]
  },
  {
   "cell_type": "code",
   "execution_count": 41,
   "id": "domestic-ceiling",
   "metadata": {},
   "outputs": [
    {
     "data": {
      "text/plain": [
       "Pipeline(steps=[('Clasificacion', DecisionTreeClassifier())])"
      ]
     },
     "execution_count": 41,
     "metadata": {},
     "output_type": "execute_result"
    }
   ],
   "source": [
    "modelo_3.fit(X_train,y_train)"
   ]
  },
  {
   "cell_type": "code",
   "execution_count": 42,
   "id": "moderate-wilderness",
   "metadata": {},
   "outputs": [],
   "source": [
    "y_pred=modelo_3.predict(X_test)"
   ]
  },
  {
   "cell_type": "code",
   "execution_count": 43,
   "id": "overall-lincoln",
   "metadata": {},
   "outputs": [
    {
     "data": {
      "text/plain": [
       "{'model': 'Arbol',\n",
       " 'accuracy': 0.8356072745375628,\n",
       " 'Roc_AUC': 0.8201870759836953,\n",
       " 'precision': 0.7666475891385273,\n",
       " 'recall': 0.767793106151163,\n",
       " 'f1': 0.7672199200593314}"
      ]
     },
     "execution_count": 43,
     "metadata": {},
     "output_type": "execute_result"
    }
   ],
   "source": [
    "m3_scores=metricas(modelo_3,'Arbol',X_test,y_test)\n",
    "m3_scores"
   ]
  },
  {
   "cell_type": "code",
   "execution_count": 44,
   "id": "excessive-phase",
   "metadata": {},
   "outputs": [
    {
     "data": {
      "text/plain": [
       "array([[326683,  47704],\n",
       "       [ 47399, 156725]], dtype=int64)"
      ]
     },
     "execution_count": 44,
     "metadata": {},
     "output_type": "execute_result"
    }
   ],
   "source": [
    "confusion_matrix(y_test,y_pred)"
   ]
  },
  {
   "cell_type": "code",
   "execution_count": 45,
   "id": "tutorial-strategy",
   "metadata": {},
   "outputs": [
    {
     "name": "stdout",
     "output_type": "stream",
     "text": [
      "              precision    recall  f1-score   support\n",
      "\n",
      "           0       0.87      0.87      0.87    374387\n",
      "           1       0.77      0.77      0.77    204124\n",
      "\n",
      "    accuracy                           0.84    578511\n",
      "   macro avg       0.82      0.82      0.82    578511\n",
      "weighted avg       0.84      0.84      0.84    578511\n",
      "\n"
     ]
    }
   ],
   "source": [
    "print(classification_report(y_test,y_pred))"
   ]
  },
  {
   "cell_type": "markdown",
   "id": "published-nudist",
   "metadata": {},
   "source": [
    "### 3.4. Resumen.\n",
    "\n",
    "Veamos a continuación como se comportan los tres modelos escogidos."
   ]
  },
  {
   "cell_type": "code",
   "execution_count": 46,
   "id": "floral-binding",
   "metadata": {},
   "outputs": [
    {
     "data": {
      "text/html": [
       "<div>\n",
       "<style scoped>\n",
       "    .dataframe tbody tr th:only-of-type {\n",
       "        vertical-align: middle;\n",
       "    }\n",
       "\n",
       "    .dataframe tbody tr th {\n",
       "        vertical-align: top;\n",
       "    }\n",
       "\n",
       "    .dataframe thead th {\n",
       "        text-align: right;\n",
       "    }\n",
       "</style>\n",
       "<table border=\"1\" class=\"dataframe\">\n",
       "  <thead>\n",
       "    <tr style=\"text-align: right;\">\n",
       "      <th></th>\n",
       "      <th>accuracy</th>\n",
       "      <th>Roc_AUC</th>\n",
       "      <th>precision</th>\n",
       "      <th>recall</th>\n",
       "      <th>f1</th>\n",
       "    </tr>\n",
       "    <tr>\n",
       "      <th>model</th>\n",
       "      <th></th>\n",
       "      <th></th>\n",
       "      <th></th>\n",
       "      <th></th>\n",
       "      <th></th>\n",
       "    </tr>\n",
       "  </thead>\n",
       "  <tbody>\n",
       "    <tr>\n",
       "      <th>Logistica</th>\n",
       "      <td>0.874255</td>\n",
       "      <td>0.869063</td>\n",
       "      <td>0.803818</td>\n",
       "      <td>0.851424</td>\n",
       "      <td>0.826936</td>\n",
       "    </tr>\n",
       "    <tr>\n",
       "      <th>Gauss</th>\n",
       "      <td>0.824211</td>\n",
       "      <td>0.845584</td>\n",
       "      <td>0.687991</td>\n",
       "      <td>0.918207</td>\n",
       "      <td>0.786600</td>\n",
       "    </tr>\n",
       "    <tr>\n",
       "      <th>Arbol</th>\n",
       "      <td>0.835607</td>\n",
       "      <td>0.820187</td>\n",
       "      <td>0.766648</td>\n",
       "      <td>0.767793</td>\n",
       "      <td>0.767220</td>\n",
       "    </tr>\n",
       "  </tbody>\n",
       "</table>\n",
       "</div>"
      ],
      "text/plain": [
       "           accuracy   Roc_AUC  precision    recall        f1\n",
       "model                                                       \n",
       "Logistica  0.874255  0.869063   0.803818  0.851424  0.826936\n",
       "Gauss      0.824211  0.845584   0.687991  0.918207  0.786600\n",
       "Arbol      0.835607  0.820187   0.766648  0.767793  0.767220"
      ]
     },
     "execution_count": 46,
     "metadata": {},
     "output_type": "execute_result"
    }
   ],
   "source": [
    "pd.DataFrame([m1_scores,m2_scores,m3_scores]).set_index(keys='model')"
   ]
  },
  {
   "cell_type": "markdown",
   "id": "durable-contamination",
   "metadata": {},
   "source": [
    "A la hora de evaluar un modelo es conveniente tener en cuenta cual es el problema que queremos solucionar con el modelo. En función de esto le daremos más importancia a una métrica o a otra.\n",
    "\n",
    "**Accuracy** o exactitud mide el porcentaje de casos que el modelo ha acertado. \n",
    "\n",
    "**Precision** es una métrica que evalua las calidad de la clasificación, es decir que cantidad de verdaderos positivos hay entre todos los que el modelo predijo como positivos.\n",
    "\n",
    "**Recall** o exhaustividad por otro lado me da el valor de la cantidad de positivos que el modelo es capaz de detectar.\n",
    "\n",
    "**F1** se utiliza para combinar las medidas de precision y recall en un sólo valor. Esto es práctico porque hace más fácil el poder comparar el rendimiento combinado de la precisión y la exhaustividad entre varias soluciones. \n",
    "\n",
    "**AUC** nos indica que capacidad tiene el modelos de distinguir las dos clases.\n",
    "\n",
    "En nuestro caso vemos que la **regresión logística**  es el modelo que mejor se comporta en términos generales, con los mayores valores de Accuracy, AUC y F1.\n",
    "\n",
    "Si en nuestro ejemplo fuese prioritario detectar el mayor número de vuelos que salen _\"on time\" (clase 1)_ entonces el **clasificador bayesiano** ofrece mayor recall (0.92), con una precisión bastante más baja (0.68). Es decir, el modelo identifica más positivos, pero se equivoca en más ocasiones.\n",
    "\n"
   ]
  },
  {
   "cell_type": "code",
   "execution_count": null,
   "id": "bound-fancy",
   "metadata": {},
   "outputs": [],
   "source": []
  },
  {
   "cell_type": "markdown",
   "id": "architectural-humanity",
   "metadata": {},
   "source": [
    "\n",
    "\n",
    "## Nivell 2\n",
    "\n",
    "### Exercici 6\n",
    "\n",
    "Realitza algun procés d’enginyeria de variables per millorar-ne la predicció\n",
    "\n"
   ]
  },
  {
   "cell_type": "markdown",
   "id": "vocal-briefing",
   "metadata": {},
   "source": [
    "Recordemos que tratamiento hemos dado a las variables:\n",
    "1. Categóricas - Ordinal encoder\n",
    "2. Numéricas - Estandarización.\n",
    "\n",
    "Vamos a probar dos cosas diferentes, \n",
    "1. Como tenemos outliers en algunas variables voy a estandarizar con RobustScaler.\n",
    "2. Voy a probar frecuency encoding en las variables categóricas."
   ]
  },
  {
   "cell_type": "markdown",
   "id": "incident-isolation",
   "metadata": {},
   "source": [
    "### 4.1. Regresión logística con RobustScaler"
   ]
  },
  {
   "cell_type": "code",
   "execution_count": 47,
   "id": "civilian-vault",
   "metadata": {},
   "outputs": [],
   "source": [
    "from sklearn.preprocessing import RobustScaler"
   ]
  },
  {
   "cell_type": "code",
   "execution_count": 48,
   "id": "continuous-exercise",
   "metadata": {},
   "outputs": [],
   "source": [
    "# Instancia modelo\n",
    "logistica=LogisticRegression()\n",
    "\n",
    "# Instanciar transformacion\n",
    "RobusScaler=RobustScaler()\n",
    "\n",
    "# Pipeline\n",
    "modelo_4=Pipeline(steps=[('Escalado',RobusScaler),\n",
    "                         ('Clasificacion',logistica)])\n"
   ]
  },
  {
   "cell_type": "code",
   "execution_count": 49,
   "id": "terminal-withdrawal",
   "metadata": {},
   "outputs": [
    {
     "data": {
      "text/plain": [
       "Pipeline(steps=[('Escalado', RobustScaler()),\n",
       "                ('Clasificacion', LogisticRegression())])"
      ]
     },
     "execution_count": 49,
     "metadata": {},
     "output_type": "execute_result"
    }
   ],
   "source": [
    "modelo_4.fit(X_train,y_train)"
   ]
  },
  {
   "cell_type": "code",
   "execution_count": 50,
   "id": "circular-tyler",
   "metadata": {},
   "outputs": [
    {
     "data": {
      "text/plain": [
       "{'model': 'Logistica + RobustScaler',\n",
       " 'accuracy': 0.8742547678436537,\n",
       " 'Roc_AUC': 0.8690643346200168,\n",
       " 'precision': 0.8038156464630114,\n",
       " 'recall': 0.851428543434383,\n",
       " 'f1': 0.8269373053654312}"
      ]
     },
     "execution_count": 50,
     "metadata": {},
     "output_type": "execute_result"
    }
   ],
   "source": [
    "m4_scores=metricas(modelo_4,'Logistica + RobustScaler',X_test,y_test)\n",
    "m4_scores"
   ]
  },
  {
   "cell_type": "markdown",
   "id": "raising-yahoo",
   "metadata": {},
   "source": [
    "En este caso no se observa una mejora importante, voy a probar implantando la codificación de frecuencia de las variables categóricas."
   ]
  },
  {
   "cell_type": "markdown",
   "id": "infectious-geometry",
   "metadata": {},
   "source": [
    "### 4.2. Regresión logística con frec. encoding de las variables categóricas."
   ]
  },
  {
   "cell_type": "code",
   "execution_count": 51,
   "id": "uniform-mountain",
   "metadata": {},
   "outputs": [
    {
     "data": {
      "text/html": [
       "<div>\n",
       "<style scoped>\n",
       "    .dataframe tbody tr th:only-of-type {\n",
       "        vertical-align: middle;\n",
       "    }\n",
       "\n",
       "    .dataframe tbody tr th {\n",
       "        vertical-align: top;\n",
       "    }\n",
       "\n",
       "    .dataframe thead th {\n",
       "        text-align: right;\n",
       "    }\n",
       "</style>\n",
       "<table border=\"1\" class=\"dataframe\">\n",
       "  <thead>\n",
       "    <tr style=\"text-align: right;\">\n",
       "      <th></th>\n",
       "      <th>DayOfYear</th>\n",
       "      <th>DayOfWeek</th>\n",
       "      <th>Hour</th>\n",
       "      <th>DepDelay</th>\n",
       "      <th>TaxiIn</th>\n",
       "      <th>TaxiOut</th>\n",
       "      <th>UniqueCarrier</th>\n",
       "      <th>YearOfManufact</th>\n",
       "      <th>Origin</th>\n",
       "      <th>Dest</th>\n",
       "      <th>Distance</th>\n",
       "      <th>Skyway</th>\n",
       "      <th>flights_hour</th>\n",
       "    </tr>\n",
       "  </thead>\n",
       "  <tbody>\n",
       "    <tr>\n",
       "      <th>0</th>\n",
       "      <td>3</td>\n",
       "      <td>4</td>\n",
       "      <td>19</td>\n",
       "      <td>8.0</td>\n",
       "      <td>4.0</td>\n",
       "      <td>8.0</td>\n",
       "      <td>WN</td>\n",
       "      <td>1998.0</td>\n",
       "      <td>IAD</td>\n",
       "      <td>TPA</td>\n",
       "      <td>810</td>\n",
       "      <td>IAD-TPA</td>\n",
       "      <td>6</td>\n",
       "    </tr>\n",
       "    <tr>\n",
       "      <th>1</th>\n",
       "      <td>3</td>\n",
       "      <td>4</td>\n",
       "      <td>7</td>\n",
       "      <td>19.0</td>\n",
       "      <td>5.0</td>\n",
       "      <td>10.0</td>\n",
       "      <td>WN</td>\n",
       "      <td>2000.0</td>\n",
       "      <td>IAD</td>\n",
       "      <td>TPA</td>\n",
       "      <td>810</td>\n",
       "      <td>IAD-TPA</td>\n",
       "      <td>9</td>\n",
       "    </tr>\n",
       "  </tbody>\n",
       "</table>\n",
       "</div>"
      ],
      "text/plain": [
       "   DayOfYear  DayOfWeek  Hour  DepDelay  TaxiIn  TaxiOut UniqueCarrier  \\\n",
       "0          3          4    19       8.0     4.0      8.0            WN   \n",
       "1          3          4     7      19.0     5.0     10.0            WN   \n",
       "\n",
       "   YearOfManufact Origin Dest  Distance   Skyway  flights_hour  \n",
       "0          1998.0    IAD  TPA       810  IAD-TPA             6  \n",
       "1          2000.0    IAD  TPA       810  IAD-TPA             9  "
      ]
     },
     "execution_count": 51,
     "metadata": {},
     "output_type": "execute_result"
    }
   ],
   "source": [
    "# Revierto el ordinal encoder\n",
    "X[geo]=geo_encoding.inverse_transform(X[geo])\n",
    "X.head(2)"
   ]
  },
  {
   "cell_type": "code",
   "execution_count": 52,
   "id": "happy-option",
   "metadata": {},
   "outputs": [],
   "source": [
    "# Frecuency encoding\n",
    "\n",
    "for categoria in geo: \n",
    "    cat_mapping=X.groupby(categoria).size()/len(X)*100\n",
    "    X[categoria]=X[categoria].map(cat_mapping)"
   ]
  },
  {
   "cell_type": "code",
   "execution_count": 53,
   "id": "emotional-delta",
   "metadata": {},
   "outputs": [],
   "source": [
    "# Train Test Split\n",
    "X_train, X_test, y_train, y_test = train_test_split(X,y,random_state=1984,test_size=0.3)"
   ]
  },
  {
   "cell_type": "code",
   "execution_count": 54,
   "id": "indoor-latitude",
   "metadata": {},
   "outputs": [],
   "source": [
    "# Instancia modelo\n",
    "logistica=LogisticRegression()\n",
    "\n",
    "# Instanciar transformacion\n",
    "\n",
    "# Pipeline\n",
    "modelo_5=Pipeline(steps=[('Escalado',Scaler),\n",
    "                         ('Clasificacion',logistica)])\n"
   ]
  },
  {
   "cell_type": "code",
   "execution_count": 55,
   "id": "central-forest",
   "metadata": {},
   "outputs": [
    {
     "data": {
      "text/plain": [
       "Pipeline(steps=[('Escalado', StandardScaler()),\n",
       "                ('Clasificacion', LogisticRegression())])"
      ]
     },
     "execution_count": 55,
     "metadata": {},
     "output_type": "execute_result"
    }
   ],
   "source": [
    "modelo_5.fit(X_train,y_train)"
   ]
  },
  {
   "cell_type": "code",
   "execution_count": 56,
   "id": "configured-trustee",
   "metadata": {},
   "outputs": [
    {
     "data": {
      "text/plain": [
       "{'model': 'Logistica + Frec_enc',\n",
       " 'accuracy': 0.8766056306621655,\n",
       " 'Roc_AUC': 0.8714431943914501,\n",
       " 'precision': 0.8074583651819425,\n",
       " 'recall': 0.8539025298348063,\n",
       " 'f1': 0.8300312627235474}"
      ]
     },
     "execution_count": 56,
     "metadata": {},
     "output_type": "execute_result"
    }
   ],
   "source": [
    "\n",
    "m5_scores=metricas(modelo_5,'Logistica + Frec_enc',X_test,y_test)\n",
    "m5_scores"
   ]
  },
  {
   "cell_type": "markdown",
   "id": "attended-kruger",
   "metadata": {},
   "source": [
    "### 4.3. Arbol de decision con frec. encoding de las variables categóricas."
   ]
  },
  {
   "cell_type": "code",
   "execution_count": 57,
   "id": "incorrect-crown",
   "metadata": {},
   "outputs": [],
   "source": [
    "# Instancia modelo\n",
    "arbol=DecisionTreeClassifier()\n",
    "\n",
    "# Instanciar transformacion\n",
    "\n",
    "# Pipeline\n",
    "modelo_6=Pipeline(steps=[('Clasificacion',arbol)])\n"
   ]
  },
  {
   "cell_type": "code",
   "execution_count": 58,
   "id": "convinced-flour",
   "metadata": {},
   "outputs": [
    {
     "data": {
      "text/plain": [
       "Pipeline(steps=[('Clasificacion', DecisionTreeClassifier())])"
      ]
     },
     "execution_count": 58,
     "metadata": {},
     "output_type": "execute_result"
    }
   ],
   "source": [
    "modelo_6.fit(X_train,y_train)"
   ]
  },
  {
   "cell_type": "code",
   "execution_count": 59,
   "id": "varied-elizabeth",
   "metadata": {},
   "outputs": [
    {
     "data": {
      "text/plain": [
       "{'model': 'Arbol + Frec_enc',\n",
       " 'accuracy': 0.8386979677136649,\n",
       " 'Roc_AUC': 0.8230528746968404,\n",
       " 'precision': 0.772259323141637,\n",
       " 'recall': 0.76989476984578,\n",
       " 'f1': 0.7710752337331309}"
      ]
     },
     "execution_count": 59,
     "metadata": {},
     "output_type": "execute_result"
    }
   ],
   "source": [
    "m6_scores=metricas(modelo_6,'Arbol + Frec_enc',X_test,y_test)\n",
    "m6_scores"
   ]
  },
  {
   "cell_type": "code",
   "execution_count": null,
   "id": "pressing-alliance",
   "metadata": {},
   "outputs": [],
   "source": []
  },
  {
   "cell_type": "code",
   "execution_count": 60,
   "id": "enormous-bicycle",
   "metadata": {},
   "outputs": [
    {
     "data": {
      "text/html": [
       "<div>\n",
       "<style scoped>\n",
       "    .dataframe tbody tr th:only-of-type {\n",
       "        vertical-align: middle;\n",
       "    }\n",
       "\n",
       "    .dataframe tbody tr th {\n",
       "        vertical-align: top;\n",
       "    }\n",
       "\n",
       "    .dataframe thead th {\n",
       "        text-align: right;\n",
       "    }\n",
       "</style>\n",
       "<table border=\"1\" class=\"dataframe\">\n",
       "  <thead>\n",
       "    <tr style=\"text-align: right;\">\n",
       "      <th></th>\n",
       "      <th>accuracy</th>\n",
       "      <th>Roc_AUC</th>\n",
       "      <th>precision</th>\n",
       "      <th>recall</th>\n",
       "      <th>f1</th>\n",
       "    </tr>\n",
       "    <tr>\n",
       "      <th>model</th>\n",
       "      <th></th>\n",
       "      <th></th>\n",
       "      <th></th>\n",
       "      <th></th>\n",
       "      <th></th>\n",
       "    </tr>\n",
       "  </thead>\n",
       "  <tbody>\n",
       "    <tr>\n",
       "      <th>Logistica</th>\n",
       "      <td>0.874255</td>\n",
       "      <td>0.869063</td>\n",
       "      <td>0.803818</td>\n",
       "      <td>0.851424</td>\n",
       "      <td>0.826936</td>\n",
       "    </tr>\n",
       "    <tr>\n",
       "      <th>Logistica + RobustScaler</th>\n",
       "      <td>0.874255</td>\n",
       "      <td>0.869064</td>\n",
       "      <td>0.803816</td>\n",
       "      <td>0.851429</td>\n",
       "      <td>0.826937</td>\n",
       "    </tr>\n",
       "    <tr>\n",
       "      <th>Logistica + Frec_enc</th>\n",
       "      <td>0.876606</td>\n",
       "      <td>0.871443</td>\n",
       "      <td>0.807458</td>\n",
       "      <td>0.853903</td>\n",
       "      <td>0.830031</td>\n",
       "    </tr>\n",
       "    <tr>\n",
       "      <th>Arbol</th>\n",
       "      <td>0.835607</td>\n",
       "      <td>0.820187</td>\n",
       "      <td>0.766648</td>\n",
       "      <td>0.767793</td>\n",
       "      <td>0.767220</td>\n",
       "    </tr>\n",
       "    <tr>\n",
       "      <th>Arbol + Frec_enc</th>\n",
       "      <td>0.838698</td>\n",
       "      <td>0.823053</td>\n",
       "      <td>0.772259</td>\n",
       "      <td>0.769895</td>\n",
       "      <td>0.771075</td>\n",
       "    </tr>\n",
       "  </tbody>\n",
       "</table>\n",
       "</div>"
      ],
      "text/plain": [
       "                          accuracy   Roc_AUC  precision    recall        f1\n",
       "model                                                                      \n",
       "Logistica                 0.874255  0.869063   0.803818  0.851424  0.826936\n",
       "Logistica + RobustScaler  0.874255  0.869064   0.803816  0.851429  0.826937\n",
       "Logistica + Frec_enc      0.876606  0.871443   0.807458  0.853903  0.830031\n",
       "Arbol                     0.835607  0.820187   0.766648  0.767793  0.767220\n",
       "Arbol + Frec_enc          0.838698  0.823053   0.772259  0.769895  0.771075"
      ]
     },
     "execution_count": 60,
     "metadata": {},
     "output_type": "execute_result"
    }
   ],
   "source": [
    "pd.DataFrame([m1_scores,m4_scores,m5_scores,m3_scores,m6_scores]).set_index(keys='model')"
   ]
  },
  {
   "cell_type": "markdown",
   "id": "western-tamil",
   "metadata": {},
   "source": [
    "En este caso codificando las variables categóricas según la frecuencia de aparición hemos mejorado un poco el comportamiento."
   ]
  },
  {
   "cell_type": "markdown",
   "id": "quality-deposit",
   "metadata": {},
   "source": [
    "### 4.4. Target encoding de las variables categóricas."
   ]
  },
  {
   "cell_type": "markdown",
   "id": "intellectual-large",
   "metadata": {},
   "source": [
    "Voy a implantar mean encoding de las variables categóricas."
   ]
  },
  {
   "cell_type": "code",
   "execution_count": 61,
   "id": "excessive-algebra",
   "metadata": {},
   "outputs": [],
   "source": [
    "df[geo]=geo_encoding.inverse_transform(df[geo])"
   ]
  },
  {
   "cell_type": "code",
   "execution_count": 62,
   "id": "trying-concert",
   "metadata": {},
   "outputs": [],
   "source": [
    "# Preparación del dataset\n",
    "X=df.drop(columns=['Month','Day','ArrDelay','Status', 'CarrierDelay','WeatherDelay','NASDelay','SecurityDelay','LateAircraftDelay'])\n",
    "y=df.Status"
   ]
  },
  {
   "cell_type": "code",
   "execution_count": 63,
   "id": "invisible-terrain",
   "metadata": {},
   "outputs": [],
   "source": [
    "# Train Test Split\n",
    "X_train, X_test, y_train, y_test = train_test_split(X,y,random_state=1984,test_size=0.3)"
   ]
  },
  {
   "cell_type": "code",
   "execution_count": 64,
   "id": "planned-french",
   "metadata": {},
   "outputs": [],
   "source": [
    "# Instancio el transformer\n",
    "mean_encoder=ce.TargetEncoder(return_df=True, \n",
    "                               smoothing=1)\n",
    "\n",
    "#target_encoder(X_train[geo])\n"
   ]
  },
  {
   "cell_type": "code",
   "execution_count": 65,
   "id": "strategic-chicago",
   "metadata": {},
   "outputs": [
    {
     "name": "stderr",
     "output_type": "stream",
     "text": [
      "C:\\Users\\iukan\\anaconda3\\lib\\site-packages\\category_encoders\\utils.py:21: FutureWarning: is_categorical is deprecated and will be removed in a future version.  Use is_categorical_dtype instead\n",
      "  elif pd.api.types.is_categorical(cols):\n",
      "C:\\Users\\iukan\\anaconda3\\lib\\site-packages\\pandas\\core\\frame.py:3191: SettingWithCopyWarning: \n",
      "A value is trying to be set on a copy of a slice from a DataFrame.\n",
      "Try using .loc[row_indexer,col_indexer] = value instead\n",
      "\n",
      "See the caveats in the documentation: https://pandas.pydata.org/pandas-docs/stable/user_guide/indexing.html#returning-a-view-versus-a-copy\n",
      "  self[k1] = value[k2]\n"
     ]
    }
   ],
   "source": [
    "# fit - transform\n",
    "X_train[geo]=mean_encoder.fit_transform(X_train[geo],\n",
    "                                       y_train)\n",
    "\n",
    "# Transform test\n",
    "X_test[geo]=mean_encoder.transform(X_test[geo])"
   ]
  },
  {
   "cell_type": "markdown",
   "id": "altered-mustang",
   "metadata": {},
   "source": [
    "#### 4.4.1. Regresión logística con target encoding. "
   ]
  },
  {
   "cell_type": "code",
   "execution_count": 66,
   "id": "compound-ontario",
   "metadata": {},
   "outputs": [
    {
     "data": {
      "text/plain": [
       "Pipeline(steps=[('Escalado', StandardScaler()),\n",
       "                ('Clasificacion', LogisticRegression())])"
      ]
     },
     "execution_count": 66,
     "metadata": {},
     "output_type": "execute_result"
    }
   ],
   "source": [
    "# Instancia modelo\n",
    "logistica=LogisticRegression()\n",
    "\n",
    "# Instanciar transformacion\n",
    "\n",
    "# Pipeline\n",
    "modelo_7=Pipeline(steps=[('Escalado',Scaler),\n",
    "                         ('Clasificacion',logistica)])\n",
    "\n",
    "\n",
    "# Ajuste\n",
    "\n",
    "modelo_7.fit(X_train,y_train)"
   ]
  },
  {
   "cell_type": "code",
   "execution_count": 67,
   "id": "adverse-vatican",
   "metadata": {},
   "outputs": [
    {
     "data": {
      "text/plain": [
       "{'model': 'Logistica + target_encoding',\n",
       " 'accuracy': 0.8761406438252687,\n",
       " 'Roc_AUC': 0.8708399799332321,\n",
       " 'precision': 0.8070756991321119,\n",
       " 'recall': 0.8528296525641277,\n",
       " 'f1': 0.8293220904197038}"
      ]
     },
     "execution_count": 67,
     "metadata": {},
     "output_type": "execute_result"
    }
   ],
   "source": [
    "m7_scores=metricas(modelo_7,'Logistica + target_encoding',X_test,y_test)\n",
    "m7_scores"
   ]
  },
  {
   "cell_type": "markdown",
   "id": "small-leeds",
   "metadata": {},
   "source": [
    "#### 4.4.2. Arbol de decisión con target encoding."
   ]
  },
  {
   "cell_type": "code",
   "execution_count": 68,
   "id": "mineral-iraqi",
   "metadata": {},
   "outputs": [
    {
     "data": {
      "text/plain": [
       "Pipeline(steps=[('Clasificacion', DecisionTreeClassifier())])"
      ]
     },
     "execution_count": 68,
     "metadata": {},
     "output_type": "execute_result"
    }
   ],
   "source": [
    "# Instancia modelo\n",
    "arbol=DecisionTreeClassifier()\n",
    "\n",
    "# Instanciar transformacion\n",
    "\n",
    "# Pipeline\n",
    "modelo_8=Pipeline(steps=[('Clasificacion',arbol)])\n",
    "\n",
    "\n",
    "# Ajuste\n",
    "\n",
    "modelo_8.fit(X_train,y_train)"
   ]
  },
  {
   "cell_type": "code",
   "execution_count": 69,
   "id": "tribal-webster",
   "metadata": {},
   "outputs": [],
   "source": [
    "m8_scores=metricas(modelo_8,'Arbol + target_encoding',X_test,y_test)"
   ]
  },
  {
   "cell_type": "code",
   "execution_count": 70,
   "id": "fallen-sitting",
   "metadata": {},
   "outputs": [
    {
     "data": {
      "text/html": [
       "<div>\n",
       "<style scoped>\n",
       "    .dataframe tbody tr th:only-of-type {\n",
       "        vertical-align: middle;\n",
       "    }\n",
       "\n",
       "    .dataframe tbody tr th {\n",
       "        vertical-align: top;\n",
       "    }\n",
       "\n",
       "    .dataframe thead th {\n",
       "        text-align: right;\n",
       "    }\n",
       "</style>\n",
       "<table border=\"1\" class=\"dataframe\">\n",
       "  <thead>\n",
       "    <tr style=\"text-align: right;\">\n",
       "      <th></th>\n",
       "      <th>accuracy</th>\n",
       "      <th>Roc_AUC</th>\n",
       "      <th>precision</th>\n",
       "      <th>recall</th>\n",
       "      <th>f1</th>\n",
       "    </tr>\n",
       "    <tr>\n",
       "      <th>model</th>\n",
       "      <th></th>\n",
       "      <th></th>\n",
       "      <th></th>\n",
       "      <th></th>\n",
       "      <th></th>\n",
       "    </tr>\n",
       "  </thead>\n",
       "  <tbody>\n",
       "    <tr>\n",
       "      <th>Logistica</th>\n",
       "      <td>0.874255</td>\n",
       "      <td>0.869063</td>\n",
       "      <td>0.803818</td>\n",
       "      <td>0.851424</td>\n",
       "      <td>0.826936</td>\n",
       "    </tr>\n",
       "    <tr>\n",
       "      <th>Logistica + RobustScaler</th>\n",
       "      <td>0.874255</td>\n",
       "      <td>0.869064</td>\n",
       "      <td>0.803816</td>\n",
       "      <td>0.851429</td>\n",
       "      <td>0.826937</td>\n",
       "    </tr>\n",
       "    <tr>\n",
       "      <th>Logistica + Frec_enc</th>\n",
       "      <td>0.876606</td>\n",
       "      <td>0.871443</td>\n",
       "      <td>0.807458</td>\n",
       "      <td>0.853903</td>\n",
       "      <td>0.830031</td>\n",
       "    </tr>\n",
       "    <tr>\n",
       "      <th>Logistica + target_encoding</th>\n",
       "      <td>0.876141</td>\n",
       "      <td>0.870840</td>\n",
       "      <td>0.807076</td>\n",
       "      <td>0.852830</td>\n",
       "      <td>0.829322</td>\n",
       "    </tr>\n",
       "    <tr>\n",
       "      <th>Arbol</th>\n",
       "      <td>0.835607</td>\n",
       "      <td>0.820187</td>\n",
       "      <td>0.766648</td>\n",
       "      <td>0.767793</td>\n",
       "      <td>0.767220</td>\n",
       "    </tr>\n",
       "    <tr>\n",
       "      <th>Arbol + Frec_enc</th>\n",
       "      <td>0.838698</td>\n",
       "      <td>0.823053</td>\n",
       "      <td>0.772259</td>\n",
       "      <td>0.769895</td>\n",
       "      <td>0.771075</td>\n",
       "    </tr>\n",
       "    <tr>\n",
       "      <th>Arbol + target_encoding</th>\n",
       "      <td>0.838065</td>\n",
       "      <td>0.822315</td>\n",
       "      <td>0.771469</td>\n",
       "      <td>0.768797</td>\n",
       "      <td>0.770131</td>\n",
       "    </tr>\n",
       "  </tbody>\n",
       "</table>\n",
       "</div>"
      ],
      "text/plain": [
       "                             accuracy   Roc_AUC  precision    recall        f1\n",
       "model                                                                         \n",
       "Logistica                    0.874255  0.869063   0.803818  0.851424  0.826936\n",
       "Logistica + RobustScaler     0.874255  0.869064   0.803816  0.851429  0.826937\n",
       "Logistica + Frec_enc         0.876606  0.871443   0.807458  0.853903  0.830031\n",
       "Logistica + target_encoding  0.876141  0.870840   0.807076  0.852830  0.829322\n",
       "Arbol                        0.835607  0.820187   0.766648  0.767793  0.767220\n",
       "Arbol + Frec_enc             0.838698  0.823053   0.772259  0.769895  0.771075\n",
       "Arbol + target_encoding      0.838065  0.822315   0.771469  0.768797  0.770131"
      ]
     },
     "execution_count": 70,
     "metadata": {},
     "output_type": "execute_result"
    }
   ],
   "source": [
    "pd.DataFrame([m1_scores,m4_scores,m5_scores,m7_scores,\n",
    "              m3_scores,m6_scores,m8_scores]).set_index(keys='model')"
   ]
  },
  {
   "cell_type": "markdown",
   "id": "gothic-strand",
   "metadata": {},
   "source": [
    "En este caso parece que la transformación que mejor funciona es la codificación por frecuencia de aparición en el dataset."
   ]
  },
  {
   "cell_type": "code",
   "execution_count": null,
   "id": "emotional-poland",
   "metadata": {},
   "outputs": [],
   "source": []
  },
  {
   "cell_type": "markdown",
   "id": "regulation-necessity",
   "metadata": {},
   "source": [
    "## Nivell 3\n",
    "\n",
    "\n",
    "### Exercici 7\n",
    "\n",
    "No utilitzis la variable DepDelay a l’hora de fer prediccions\n",
    "\n",
    "## 5. Modelo de clasificación son la variable DepDelay."
   ]
  },
  {
   "cell_type": "markdown",
   "id": "appropriate-regression",
   "metadata": {},
   "source": [
    "Vamos a añadir un punto de dificultad al modelo y vamos a quitar una nueva variable, DepDelay."
   ]
  },
  {
   "cell_type": "code",
   "execution_count": 71,
   "id": "professional-multiple",
   "metadata": {},
   "outputs": [],
   "source": [
    "# Preparación del dataset\n",
    "X=df.drop(columns=['Day',\n",
    "                   'ArrDelay',\n",
    "                   'Status', \n",
    "                   'DepDelay',\n",
    "                   'CarrierDelay','WeatherDelay','NASDelay','SecurityDelay','LateAircraftDelay'])\n",
    "y=df.Status"
   ]
  },
  {
   "cell_type": "code",
   "execution_count": 72,
   "id": "literary-vector",
   "metadata": {},
   "outputs": [],
   "source": [
    "# Frecuency encoding\n",
    "\n",
    "for categoria in geo: \n",
    "    # mapeo frecuencia de aparición de variables en train dataset\n",
    "    cat_mapping=X.groupby(categoria).size()/len(X)*100\n",
    "    # Imputo frecuencias en train y test dataset\n",
    "    X[categoria]=X[categoria].map(cat_mapping)\n",
    "    "
   ]
  },
  {
   "cell_type": "code",
   "execution_count": 73,
   "id": "considered-timber",
   "metadata": {},
   "outputs": [],
   "source": [
    "# Train Test Split\n",
    "X_train, X_test, y_train, y_test = train_test_split(X,y,random_state=1984,test_size=0.3)"
   ]
  },
  {
   "cell_type": "markdown",
   "id": "african-retirement",
   "metadata": {},
   "source": [
    "### 5.1. Regresión logística."
   ]
  },
  {
   "cell_type": "code",
   "execution_count": 74,
   "id": "eligible-representative",
   "metadata": {},
   "outputs": [
    {
     "data": {
      "text/plain": [
       "Pipeline(steps=[('Escalado', StandardScaler()),\n",
       "                ('Clasificacion', LogisticRegression())])"
      ]
     },
     "execution_count": 74,
     "metadata": {},
     "output_type": "execute_result"
    }
   ],
   "source": [
    "# instanciar modelo\n",
    "logistica=LogisticRegression()\n",
    "\n",
    "# Instanciar transformacion\n",
    "\n",
    "# Pipeline\n",
    "modelo_9=Pipeline(steps=[('Escalado',Scaler),\n",
    "                         ('Clasificacion',logistica)])\n",
    "\n",
    "\n",
    "# Ajuste\n",
    "\n",
    "modelo_9.fit(X_train,y_train)\n"
   ]
  },
  {
   "cell_type": "code",
   "execution_count": 75,
   "id": "metric-adaptation",
   "metadata": {},
   "outputs": [
    {
     "data": {
      "text/plain": [
       "{'model': 'Logistica - sin DepDelay',\n",
       " 'accuracy': 0.6657505215976879,\n",
       " 'Roc_AUC': 0.5787405394520381,\n",
       " 'precision': 0.5513122620898883,\n",
       " 'recall': 0.2831024279359605,\n",
       " 'f1': 0.37410137145039696}"
      ]
     },
     "execution_count": 75,
     "metadata": {},
     "output_type": "execute_result"
    }
   ],
   "source": [
    "m9_scores=metricas(modelo_9,'Logistica - sin DepDelay',X_test,y_test)\n",
    "m9_scores"
   ]
  },
  {
   "cell_type": "code",
   "execution_count": 76,
   "id": "interesting-raleigh",
   "metadata": {},
   "outputs": [
    {
     "name": "stdout",
     "output_type": "stream",
     "text": [
      "0, Score: 0.077, DayOfYear\n",
      "1, Score: -0.054, Month\n",
      "2, Score: 0.006, DayOfWeek\n",
      "3, Score: -0.121, Hour\n",
      "4, Score: -0.377, TaxiIn\n",
      "5, Score: -1.047, TaxiOut\n",
      "6, Score: -0.032, UniqueCarrier\n",
      "7, Score: 0.014, YearOfManufact\n",
      "8, Score: 0.271, Origin\n",
      "9, Score: -0.021, Dest\n",
      "10, Score: 0.218, Distance\n",
      "11, Score: 0.069, Skyway\n",
      "12, Score: -0.357, flights_hour\n"
     ]
    },
    {
     "data": {
      "image/png": "[encoded data removed]",
      "text/plain": [
       "<Figure size 432x288 with 1 Axes>"
      ]
     },
     "metadata": {
      "needs_background": "light"
     },
     "output_type": "display_data"
    }
   ],
   "source": [
    "# Coeficientes \n",
    "importance = modelo_9[1].coef_[0]\n",
    "# Resumen coeficientes\n",
    "for (i,v),z in zip(enumerate(importance),X_train.columns):\n",
    "    print(f'{i:0d}, Score: {v:.3f}, {z}')\n",
    "#plot feature importance\n",
    "plt.bar([x for x in range(len(importance))], importance)\n",
    "plt.show()"
   ]
  },
  {
   "cell_type": "markdown",
   "id": "unlimited-violin",
   "metadata": {},
   "source": [
    "### 5.2. Arbol de decisión."
   ]
  },
  {
   "cell_type": "code",
   "execution_count": 77,
   "id": "developed-extra",
   "metadata": {},
   "outputs": [
    {
     "data": {
      "text/plain": [
       "Pipeline(steps=[('Clasificacion', DecisionTreeClassifier())])"
      ]
     },
     "execution_count": 77,
     "metadata": {},
     "output_type": "execute_result"
    }
   ],
   "source": [
    "# instanciar modelo\n",
    "arbol=DecisionTreeClassifier()\n",
    "\n",
    "# Instanciar transformacion\n",
    "\n",
    "# Pipeline\n",
    "modelo_10=Pipeline(steps=[('Clasificacion',arbol)])\n",
    "\n",
    "\n",
    "# Ajuste\n",
    "\n",
    "modelo_10.fit(X_train,y_train)\n"
   ]
  },
  {
   "cell_type": "code",
   "execution_count": 78,
   "id": "consistent-stability",
   "metadata": {},
   "outputs": [
    {
     "data": {
      "text/plain": [
       "{'model': 'Arbol - sin DepDelay',\n",
       " 'accuracy': 0.6179502204798181,\n",
       " 'Roc_AUC': 0.5845750041757285,\n",
       " 'precision': 0.4596276260203009,\n",
       " 'recall': 0.4711743841978405,\n",
       " 'f1': 0.46532938535377}"
      ]
     },
     "execution_count": 78,
     "metadata": {},
     "output_type": "execute_result"
    }
   ],
   "source": [
    "m10_scores=metricas(modelo_10,'Arbol - sin DepDelay',X_test,y_test)\n",
    "m10_scores\n"
   ]
  },
  {
   "cell_type": "code",
   "execution_count": 79,
   "id": "twenty-presentation",
   "metadata": {},
   "outputs": [
    {
     "name": "stdout",
     "output_type": "stream",
     "text": [
      "0, Score: 0.153, DayOfYear\n",
      "1, Score: 0.026, Month\n",
      "2, Score: 0.068, DayOfWeek\n",
      "3, Score: 0.066, Hour\n",
      "4, Score: 0.078, TaxiIn\n",
      "5, Score: 0.126, TaxiOut\n",
      "6, Score: 0.030, UniqueCarrier\n",
      "7, Score: 0.092, YearOfManufact\n",
      "8, Score: 0.053, Origin\n",
      "9, Score: 0.061, Dest\n",
      "10, Score: 0.084, Distance\n",
      "11, Score: 0.077, Skyway\n",
      "12, Score: 0.085, flights_hour\n"
     ]
    },
    {
     "data": {
      "image/png": "[encoded data removed]",
      "text/plain": [
       "<Figure size 432x288 with 1 Axes>"
      ]
     },
     "metadata": {
      "needs_background": "light"
     },
     "output_type": "display_data"
    }
   ],
   "source": [
    "# Importancia de las variables\n",
    "importance=modelo_10[0].feature_importances_\n",
    "\n",
    "for (i,v),z in zip(enumerate(importance),X_train.columns):\n",
    "    print(f'{i:0d}, Score: {v:.3f}, {z}')\n",
    "\n",
    "plt.bar([x for x in range(len(importance))],importance);"
   ]
  },
  {
   "cell_type": "code",
   "execution_count": 80,
   "id": "domestic-agreement",
   "metadata": {},
   "outputs": [
    {
     "data": {
      "text/html": [
       "<div>\n",
       "<style scoped>\n",
       "    .dataframe tbody tr th:only-of-type {\n",
       "        vertical-align: middle;\n",
       "    }\n",
       "\n",
       "    .dataframe tbody tr th {\n",
       "        vertical-align: top;\n",
       "    }\n",
       "\n",
       "    .dataframe thead th {\n",
       "        text-align: right;\n",
       "    }\n",
       "</style>\n",
       "<table border=\"1\" class=\"dataframe\">\n",
       "  <thead>\n",
       "    <tr style=\"text-align: right;\">\n",
       "      <th></th>\n",
       "      <th>accuracy</th>\n",
       "      <th>Roc_AUC</th>\n",
       "      <th>precision</th>\n",
       "      <th>recall</th>\n",
       "      <th>f1</th>\n",
       "    </tr>\n",
       "    <tr>\n",
       "      <th>model</th>\n",
       "      <th></th>\n",
       "      <th></th>\n",
       "      <th></th>\n",
       "      <th></th>\n",
       "      <th></th>\n",
       "    </tr>\n",
       "  </thead>\n",
       "  <tbody>\n",
       "    <tr>\n",
       "      <th>Logistica</th>\n",
       "      <td>0.874255</td>\n",
       "      <td>0.869063</td>\n",
       "      <td>0.803818</td>\n",
       "      <td>0.851424</td>\n",
       "      <td>0.826936</td>\n",
       "    </tr>\n",
       "    <tr>\n",
       "      <th>Logistica - sin DepDelay</th>\n",
       "      <td>0.665751</td>\n",
       "      <td>0.578741</td>\n",
       "      <td>0.551312</td>\n",
       "      <td>0.283102</td>\n",
       "      <td>0.374101</td>\n",
       "    </tr>\n",
       "    <tr>\n",
       "      <th>Arbol</th>\n",
       "      <td>0.835607</td>\n",
       "      <td>0.820187</td>\n",
       "      <td>0.766648</td>\n",
       "      <td>0.767793</td>\n",
       "      <td>0.767220</td>\n",
       "    </tr>\n",
       "    <tr>\n",
       "      <th>Arbol - sin DepDelay</th>\n",
       "      <td>0.617950</td>\n",
       "      <td>0.584575</td>\n",
       "      <td>0.459628</td>\n",
       "      <td>0.471174</td>\n",
       "      <td>0.465329</td>\n",
       "    </tr>\n",
       "  </tbody>\n",
       "</table>\n",
       "</div>"
      ],
      "text/plain": [
       "                          accuracy   Roc_AUC  precision    recall        f1\n",
       "model                                                                      \n",
       "Logistica                 0.874255  0.869063   0.803818  0.851424  0.826936\n",
       "Logistica - sin DepDelay  0.665751  0.578741   0.551312  0.283102  0.374101\n",
       "Arbol                     0.835607  0.820187   0.766648  0.767793  0.767220\n",
       "Arbol - sin DepDelay      0.617950  0.584575   0.459628  0.471174  0.465329"
      ]
     },
     "execution_count": 80,
     "metadata": {},
     "output_type": "execute_result"
    }
   ],
   "source": [
    "pd.DataFrame([m1_scores,m9_scores,m3_scores,m10_scores]).set_index(keys='model')"
   ]
  },
  {
   "cell_type": "markdown",
   "id": "forward-freight",
   "metadata": {},
   "source": [
    "Vemos que al quitar la variable DepDelay, al sistema le cuesta mucho trabajo clasificar los vuelos.\n",
    "\n"
   ]
  },
  {
   "cell_type": "markdown",
   "id": "portable-intake",
   "metadata": {},
   "source": [
    "### 5.3. Creación de nuevas variables.\n",
    "\n",
    "Vamos a crear nuevas variables a veri si somos capaces de mejorar el score del modelo. Earth_time será la suma de TaxiIn y taxiOut por el número de vuelos por hora."
   ]
  },
  {
   "cell_type": "code",
   "execution_count": 81,
   "id": "focused-basics",
   "metadata": {},
   "outputs": [],
   "source": [
    "# New variable\n",
    "X['earth_time']=(X.TaxiIn+X.TaxiOut)*X.flights_hour\n",
    "\n",
    "# Train Test Split\n",
    "X_train, X_test, y_train, y_test = train_test_split(X,y,random_state=1984,test_size=0.3)"
   ]
  },
  {
   "cell_type": "code",
   "execution_count": 82,
   "id": "exotic-genealogy",
   "metadata": {},
   "outputs": [
    {
     "data": {
      "text/plain": [
       "Pipeline(steps=[('Escalado', StandardScaler()),\n",
       "                ('Clasificacion', LogisticRegression())])"
      ]
     },
     "execution_count": 82,
     "metadata": {},
     "output_type": "execute_result"
    }
   ],
   "source": [
    "# instanciar modelo\n",
    "logistica=LogisticRegression()\n",
    "\n",
    "# Instanciar transformacion\n",
    "\n",
    "# Pipeline\n",
    "modelo_12=Pipeline(steps=[('Escalado',Scaler),\n",
    "                         ('Clasificacion',logistica)])\n",
    "\n",
    "\n",
    "# Ajuste\n",
    "\n",
    "modelo_12.fit(X_train,y_train)\n"
   ]
  },
  {
   "cell_type": "code",
   "execution_count": 83,
   "id": "generous-quarter",
   "metadata": {},
   "outputs": [
    {
     "data": {
      "text/plain": [
       "{'model': 'Logistica - sin DepDelay - X_tierra',\n",
       " 'accuracy': 0.6656606356663918,\n",
       " 'Roc_AUC': 0.5787267913476445,\n",
       " 'precision': 0.5509902735041107,\n",
       " 'recall': 0.28334737708451724,\n",
       " 'f1': 0.3742409291641728}"
      ]
     },
     "execution_count": 83,
     "metadata": {},
     "output_type": "execute_result"
    }
   ],
   "source": [
    "m12_scores=metricas(modelo_12,'Logistica - sin DepDelay - X_tierra',X_test,y_test)\n",
    "m12_scores"
   ]
  },
  {
   "cell_type": "markdown",
   "id": "apparent-ranking",
   "metadata": {},
   "source": [
    "El modelo no mejora."
   ]
  },
  {
   "cell_type": "markdown",
   "id": "sudden-bonus",
   "metadata": {},
   "source": [
    "### 5.3.1. Modelo con Transformación polinómica de las variables Dia del año y TaxiOut y regresión logística. "
   ]
  },
  {
   "cell_type": "code",
   "execution_count": 84,
   "id": "musical-canal",
   "metadata": {},
   "outputs": [
    {
     "data": {
      "text/plain": [
       "Pipeline(steps=[('Polinomios',\n",
       "                 ColumnTransformer(remainder='passthrough',\n",
       "                                   transformers=[('polinomicos',\n",
       "                                                  PolynomialFeatures(degree=5),\n",
       "                                                  [0, 5])])),\n",
       "                ('Escalado', StandardScaler()),\n",
       "                ('Clasificacion', LogisticRegression(max_iter=10000))])"
      ]
     },
     "execution_count": 84,
     "metadata": {},
     "output_type": "execute_result"
    }
   ],
   "source": [
    "\n",
    "# Instancia modelo\n",
    "logistica=LogisticRegression(max_iter=10000)\n",
    "\n",
    "# Instanciar transformacion\n",
    "from sklearn.preprocessing import PolynomialFeatures\n",
    "from sklearn.compose import ColumnTransformer\n",
    "\n",
    "polinomico3=PolynomialFeatures(degree=5)\n",
    "\n",
    "columni=ColumnTransformer([('polinomicos',polinomico3,[0,5])],\n",
    "                            remainder='passthrough')\n",
    "\n",
    "\n",
    "# Pipeline\n",
    "modelo_11=Pipeline(steps=[('Polinomios',columni),\n",
    "                         ('Escalado',Scaler),\n",
    "                         ('Clasificacion',logistica)])\n",
    "\n",
    "\n",
    "# Ajuste\n",
    "\n",
    "modelo_11.fit(X_train,y_train)\n"
   ]
  },
  {
   "cell_type": "code",
   "execution_count": 85,
   "id": "magnetic-southwest",
   "metadata": {},
   "outputs": [
    {
     "data": {
      "text/plain": [
       "{'model': 'logistica_nuevavariable',\n",
       " 'accuracy': 0.6679354411584222,\n",
       " 'Roc_AUC': 0.5799919540434304,\n",
       " 'precision': 0.5584843973494469,\n",
       " 'recall': 0.2811820266112755,\n",
       " 'f1': 0.3740432395444696}"
      ]
     },
     "execution_count": 85,
     "metadata": {},
     "output_type": "execute_result"
    }
   ],
   "source": [
    "metricas(modelo_11,'logistica_nuevavariable',X_test,y_test)"
   ]
  },
  {
   "cell_type": "markdown",
   "id": "controlling-obligation",
   "metadata": {},
   "source": [
    "El modelo mejora ligeramente."
   ]
  },
  {
   "cell_type": "code",
   "execution_count": 86,
   "id": "relative-suicide",
   "metadata": {},
   "outputs": [
    {
     "name": "stdout",
     "output_type": "stream",
     "text": [
      "0, Score: 0.000\n",
      "1, Score: 0.522\n",
      "2, Score: -0.337\n",
      "3, Score: -0.716\n",
      "4, Score: -0.619\n",
      "5, Score: -2.835\n",
      "6, Score: -0.681\n",
      "7, Score: 0.785\n",
      "8, Score: 0.403\n",
      "9, Score: 3.760\n",
      "10, Score: 3.800\n",
      "11, Score: -1.021\n",
      "12, Score: 2.613\n",
      "13, Score: 0.059\n",
      "14, Score: -0.523\n",
      "15, Score: -2.782\n",
      "16, Score: 0.859\n",
      "17, Score: -2.970\n",
      "18, Score: 0.975\n",
      "19, Score: -2.991\n",
      "20, Score: -2.095\n",
      "21, Score: -0.202\n",
      "22, Score: 0.004\n",
      "23, Score: -0.125\n",
      "24, Score: -0.382\n",
      "25, Score: -0.017\n",
      "26, Score: 0.017\n",
      "27, Score: 0.243\n",
      "28, Score: -0.022\n",
      "29, Score: 0.214\n",
      "30, Score: 0.068\n",
      "31, Score: -0.374\n",
      "32, Score: 0.073\n"
     ]
    },
    {
     "data": {
      "image/png": "[encoded data removed]",
      "text/plain": [
       "<Figure size 432x288 with 1 Axes>"
      ]
     },
     "metadata": {
      "needs_background": "light"
     },
     "output_type": "display_data"
    }
   ],
   "source": [
    "# Coeficientes \n",
    "importance = modelo_11[2].coef_[0]\n",
    "# Resumen coeficientes\n",
    "for (i,v) in enumerate(importance):\n",
    "    print(f'{i:0d}, Score: {v:.3f}')\n",
    "#plot feature importance\n",
    "plt.bar([x for x in range(len(importance))], importance)\n",
    "plt.show()"
   ]
  },
  {
   "cell_type": "markdown",
   "id": "reliable-algebra",
   "metadata": {},
   "source": [
    "## 5.4. Tuneado de hiperparametros con RandomizedSearchCV.\n",
    "### 5.4.1. Arbol de decisión."
   ]
  },
  {
   "cell_type": "code",
   "execution_count": 87,
   "id": "generic-advisory",
   "metadata": {},
   "outputs": [],
   "source": [
    "# Instancia modelo\n",
    "modelo_13=Pipeline(steps=[('modelo',DecisionTreeClassifier())])\n",
    "\n",
    "# Hiperparametros\n",
    "arbol_hyp={'modelo__max_depth': [1,2,3,5,9,15,30],\n",
    "           'modelo__min_samples_split':[0.0001,0.001,0.01],\n",
    "            'modelo__max_features':[1,3,5,7,11],\n",
    "            'modelo__min_impurity_decrease':[0.0,0.1],}\n",
    "\n",
    "modelo_13_grid=RandomizedSearchCV(modelo_13,\n",
    "                                  arbol_hyp,\n",
    "                                  n_iter=20,\n",
    "                                  scoring='accuracy',\n",
    "                                  n_jobs=-1,\n",
    "                                  verbose=2,\n",
    "                                  cv=10,)"
   ]
  },
  {
   "cell_type": "code",
   "execution_count": 88,
   "id": "healthy-chambers",
   "metadata": {},
   "outputs": [
    {
     "name": "stdout",
     "output_type": "stream",
     "text": [
      "Fitting 10 folds for each of 20 candidates, totalling 200 fits\n"
     ]
    },
    {
     "data": {
      "text/plain": [
       "RandomizedSearchCV(cv=10,\n",
       "                   estimator=Pipeline(steps=[('modelo',\n",
       "                                              DecisionTreeClassifier())]),\n",
       "                   n_iter=20, n_jobs=-1,\n",
       "                   param_distributions={'modelo__max_depth': [1, 2, 3, 5, 9, 15,\n",
       "                                                              30],\n",
       "                                        'modelo__max_features': [1, 3, 5, 7,\n",
       "                                                                 11],\n",
       "                                        'modelo__min_impurity_decrease': [0.0,\n",
       "                                                                          0.1],\n",
       "                                        'modelo__min_samples_split': [0.0001,\n",
       "                                                                      0.001,\n",
       "                                                                      0.01]},\n",
       "                   scoring='accuracy', verbose=2)"
      ]
     },
     "execution_count": 88,
     "metadata": {},
     "output_type": "execute_result"
    }
   ],
   "source": [
    "modelo_13_grid.fit(X_train,y_train)"
   ]
  },
  {
   "cell_type": "code",
   "execution_count": 89,
   "id": "steady-medline",
   "metadata": {},
   "outputs": [
    {
     "data": {
      "text/plain": [
       "Pipeline(steps=[('modelo',\n",
       "                 DecisionTreeClassifier(max_depth=30, max_features=5,\n",
       "                                        min_samples_split=0.001))])"
      ]
     },
     "execution_count": 89,
     "metadata": {},
     "output_type": "execute_result"
    }
   ],
   "source": [
    "modelo_13_grid.best_estimator_"
   ]
  },
  {
   "cell_type": "code",
   "execution_count": 90,
   "id": "clean-conditioning",
   "metadata": {},
   "outputs": [
    {
     "data": {
      "text/plain": [
       "0.6736357994069223"
      ]
     },
     "execution_count": 90,
     "metadata": {},
     "output_type": "execute_result"
    }
   ],
   "source": [
    "modelo_13_grid.best_score_"
   ]
  },
  {
   "cell_type": "markdown",
   "id": "rental-south",
   "metadata": {},
   "source": [
    "### 5.4.2. Ensemble Extreme gradient boosting (XGBoost)\n",
    "\n",
    "Por último voy a probar un ensemble de clasificación XGBoost."
   ]
  },
  {
   "cell_type": "code",
   "execution_count": 91,
   "id": "proof-thousand",
   "metadata": {},
   "outputs": [],
   "source": [
    "import xgboost as xgb"
   ]
  },
  {
   "cell_type": "code",
   "execution_count": 92,
   "id": "representative-brush",
   "metadata": {},
   "outputs": [
    {
     "name": "stderr",
     "output_type": "stream",
     "text": [
      "C:\\Users\\iukan\\anaconda3\\lib\\site-packages\\xgboost\\sklearn.py:888: UserWarning: The use of label encoder in XGBClassifier is deprecated and will be removed in a future release. To remove this warning, do the following: 1) Pass option use_label_encoder=False when constructing XGBClassifier object; and 2) Encode your labels (y) as integers starting with 0, i.e. 0, 1, 2, ..., [num_class - 1].\n",
      "  warnings.warn(label_encoder_deprecation_msg, UserWarning)\n"
     ]
    },
    {
     "name": "stdout",
     "output_type": "stream",
     "text": [
      "[19:15:59] WARNING: C:/Users/Administrator/workspace/xgboost-win64_release_1.3.0/src/learner.cc:1061: Starting in XGBoost 1.3.0, the default evaluation metric used with the objective 'binary:logistic' was changed from 'error' to 'logloss'. Explicitly set eval_metric if you'd like to restore the old behavior.\n"
     ]
    },
    {
     "data": {
      "text/plain": [
       "Pipeline(steps=[('Clasificacion',\n",
       "                 XGBClassifier(base_score=0.5, booster='gbtree',\n",
       "                               colsample_bylevel=1, colsample_bynode=1,\n",
       "                               colsample_bytree=1, gamma=0, gpu_id=-1,\n",
       "                               importance_type='gain',\n",
       "                               interaction_constraints='',\n",
       "                               learning_rate=0.300000012, max_delta_step=0,\n",
       "                               max_depth=6, min_child_weight=1, missing=nan,\n",
       "                               monotone_constraints='()', n_estimators=100,\n",
       "                               n_jobs=8, num_parallel_tree=1, random_state=0,\n",
       "                               reg_alpha=0, reg_lambda=1, scale_pos_weight=1,\n",
       "                               subsample=1, tree_method='exact',\n",
       "                               validate_parameters=1, verbosity=None))])"
      ]
     },
     "execution_count": 92,
     "metadata": {},
     "output_type": "execute_result"
    }
   ],
   "source": [
    "# instanciar modelo\n",
    "clf=xgb.XGBClassifier()\n",
    "\n",
    "# Instanciar transformacion\n",
    "\n",
    "# Pipeline\n",
    "modelo_14=Pipeline(steps=[('Clasificacion',clf)])\n",
    "\n",
    "\n",
    "# Ajuste\n",
    "\n",
    "modelo_14.fit(X_train,y_train)\n"
   ]
  },
  {
   "cell_type": "code",
   "execution_count": 93,
   "id": "careful-gravity",
   "metadata": {},
   "outputs": [
    {
     "data": {
      "text/plain": [
       "{'model': 'XGB',\n",
       " 'accuracy': 0.6928234726738126,\n",
       " 'Roc_AUC': 0.6267236494657631,\n",
       " 'precision': 0.5958940406966192,\n",
       " 'recall': 0.40213301718563227,\n",
       " 'f1': 0.48020475319926875}"
      ]
     },
     "execution_count": 93,
     "metadata": {},
     "output_type": "execute_result"
    }
   ],
   "source": [
    "metricas(modelo_14,'XGB',X_test,y_test)"
   ]
  },
  {
   "cell_type": "markdown",
   "id": "personalized-prospect",
   "metadata": {},
   "source": [
    "El modelo mejora las puntuaciones generales, veamos una busqueda de mejora en los parámetros."
   ]
  },
  {
   "cell_type": "code",
   "execution_count": 94,
   "id": "mysterious-ivory",
   "metadata": {},
   "outputs": [],
   "source": [
    "# Instancia modelo\n",
    "clf=xgb.XGBClassifier()\n",
    "\n",
    "# Parametros\n",
    "parametros={'n_estimators' :[50,100,200,300],\n",
    "            'max_depth' :[3,5,10],\n",
    "            'learning_rate' : [0.01,0.1,0.2,0.3],\n",
    "            'booster':['gbtree','gblinear'] ,\n",
    "            'gamma':[0,0.1,1,10],}\n",
    "\n",
    "xgb_grid=RandomizedSearchCV(estimator=clf,\n",
    "                          param_distributions=parametros,\n",
    "                          n_iter=10,\n",
    "                          n_jobs=-2,\n",
    "                          scoring='accuracy',\n",
    "                          verbose=2,\n",
    "                          cv=5)"
   ]
  },
  {
   "cell_type": "code",
   "execution_count": 95,
   "id": "close-desktop",
   "metadata": {},
   "outputs": [
    {
     "name": "stdout",
     "output_type": "stream",
     "text": [
      "Fitting 5 folds for each of 10 candidates, totalling 50 fits\n"
     ]
    },
    {
     "name": "stderr",
     "output_type": "stream",
     "text": [
      "C:\\Users\\iukan\\anaconda3\\lib\\site-packages\\xgboost\\sklearn.py:888: UserWarning: The use of label encoder in XGBClassifier is deprecated and will be removed in a future release. To remove this warning, do the following: 1) Pass option use_label_encoder=False when constructing XGBClassifier object; and 2) Encode your labels (y) as integers starting with 0, i.e. 0, 1, 2, ..., [num_class - 1].\n",
      "  warnings.warn(label_encoder_deprecation_msg, UserWarning)\n"
     ]
    },
    {
     "name": "stdout",
     "output_type": "stream",
     "text": [
      "[20:14:29] WARNING: C:/Users/Administrator/workspace/xgboost-win64_release_1.3.0/src/learner.cc:1061: Starting in XGBoost 1.3.0, the default evaluation metric used with the objective 'binary:logistic' was changed from 'error' to 'logloss'. Explicitly set eval_metric if you'd like to restore the old behavior.\n"
     ]
    },
    {
     "data": {
      "text/plain": [
       "RandomizedSearchCV(cv=5,\n",
       "                   estimator=XGBClassifier(base_score=None, booster=None,\n",
       "                                           colsample_bylevel=None,\n",
       "                                           colsample_bynode=None,\n",
       "                                           colsample_bytree=None, gamma=None,\n",
       "                                           gpu_id=None, importance_type='gain',\n",
       "                                           interaction_constraints=None,\n",
       "                                           learning_rate=None,\n",
       "                                           max_delta_step=None, max_depth=None,\n",
       "                                           min_child_weight=None, missing=nan,\n",
       "                                           monotone_constraints=None,\n",
       "                                           n_estimators=100,...\n",
       "                                           num_parallel_tree=None,\n",
       "                                           random_state=None, reg_alpha=None,\n",
       "                                           reg_lambda=None,\n",
       "                                           scale_pos_weight=None,\n",
       "                                           subsample=None, tree_method=None,\n",
       "                                           validate_parameters=None,\n",
       "                                           verbosity=None),\n",
       "                   n_jobs=-2,\n",
       "                   param_distributions={'booster': ['gbtree', 'gblinear'],\n",
       "                                        'gamma': [0, 0.1, 1, 10],\n",
       "                                        'learning_rate': [0.01, 0.1, 0.2, 0.3],\n",
       "                                        'max_depth': [3, 5, 10],\n",
       "                                        'n_estimators': [50, 100, 200, 300]},\n",
       "                   scoring='accuracy', verbose=2)"
      ]
     },
     "execution_count": 95,
     "metadata": {},
     "output_type": "execute_result"
    }
   ],
   "source": [
    "xgb_grid.fit(X_train,y_train)"
   ]
  },
  {
   "cell_type": "code",
   "execution_count": 96,
   "id": "satisfied-bernard",
   "metadata": {},
   "outputs": [
    {
     "data": {
      "text/plain": [
       "0.6943602166407901"
      ]
     },
     "execution_count": 96,
     "metadata": {},
     "output_type": "execute_result"
    }
   ],
   "source": [
    "xgb_grid.best_score_"
   ]
  },
  {
   "cell_type": "code",
   "execution_count": 97,
   "id": "yellow-publication",
   "metadata": {},
   "outputs": [
    {
     "data": {
      "text/plain": [
       "XGBClassifier(base_score=0.5, booster='gbtree', colsample_bylevel=1,\n",
       "              colsample_bynode=1, colsample_bytree=1, gamma=0.1, gpu_id=-1,\n",
       "              importance_type='gain', interaction_constraints='',\n",
       "              learning_rate=0.2, max_delta_step=0, max_depth=10,\n",
       "              min_child_weight=1, missing=nan, monotone_constraints='()',\n",
       "              n_estimators=50, n_jobs=8, num_parallel_tree=1, random_state=0,\n",
       "              reg_alpha=0, reg_lambda=1, scale_pos_weight=1, subsample=1,\n",
       "              tree_method='exact', validate_parameters=1, verbosity=None)"
      ]
     },
     "execution_count": 97,
     "metadata": {},
     "output_type": "execute_result"
    }
   ],
   "source": [
    "xgb_grid.best_estimator_"
   ]
  },
  {
   "cell_type": "code",
   "execution_count": 98,
   "id": "saving-comparison",
   "metadata": {},
   "outputs": [],
   "source": [
    "from joblib import dump, load"
   ]
  },
  {
   "cell_type": "code",
   "execution_count": 99,
   "id": "close-constitution",
   "metadata": {},
   "outputs": [
    {
     "data": {
      "text/plain": [
       "['XGB_clf.joblib']"
      ]
     },
     "execution_count": 99,
     "metadata": {},
     "output_type": "execute_result"
    }
   ],
   "source": [
    "dump(xgb_grid.best_estimator_,'XGB_clf.joblib')"
   ]
  },
  {
   "cell_type": "markdown",
   "id": "physical-orchestra",
   "metadata": {},
   "source": [
    "### 5.4.3. Combinación clausterización + regresión logística.\n",
    "Algunos problemas de clasificación parecen mejorar cuando introducimos un paso previo de clusterización antes de hacel la clasificación, En este caso voy a usar un algoritmo KMeans + Regresión logística. "
   ]
  },
  {
   "cell_type": "code",
   "execution_count": 100,
   "id": "better-conspiracy",
   "metadata": {},
   "outputs": [],
   "source": [
    "from sklearn.cluster import KMeans"
   ]
  },
  {
   "cell_type": "code",
   "execution_count": 101,
   "id": "fewer-biodiversity",
   "metadata": {},
   "outputs": [
    {
     "name": "stderr",
     "output_type": "stream",
     "text": [
      "C:\\Users\\iukan\\anaconda3\\lib\\site-packages\\sklearn\\linear_model\\_logistic.py:763: ConvergenceWarning: lbfgs failed to converge (status=1):\n",
      "STOP: TOTAL NO. of ITERATIONS REACHED LIMIT.\n",
      "\n",
      "Increase the number of iterations (max_iter) or scale the data as shown in:\n",
      "    https://scikit-learn.org/stable/modules/preprocessing.html\n",
      "Please also refer to the documentation for alternative solver options:\n",
      "    https://scikit-learn.org/stable/modules/linear_model.html#logistic-regression\n",
      "  n_iter_i = _check_optimize_result(\n"
     ]
    },
    {
     "data": {
      "text/plain": [
       "Pipeline(steps=[('Escalado', StandardScaler()),\n",
       "                ('Kmean', KMeans(n_clusters=13)),\n",
       "                ('Clasificacion', LogisticRegression())])"
      ]
     },
     "execution_count": 101,
     "metadata": {},
     "output_type": "execute_result"
    }
   ],
   "source": [
    "# instanciar modelo\n",
    "Scaler=StandardScaler()\n",
    "logistica=LogisticRegression()\n",
    "Kmean=KMeans(n_clusters=13,)\n",
    "# Instanciar transformacion\n",
    "\n",
    "# Pipeline\n",
    "modelo_15=Pipeline(steps=[('Escalado',Scaler),\n",
    "                          ('Kmean',Kmean),\n",
    "                         ('Clasificacion',logistica)])\n",
    "\n",
    "\n",
    "# Ajuste\n",
    "\n",
    "modelo_15.fit(X_train,y_train)\n"
   ]
  },
  {
   "cell_type": "code",
   "execution_count": 102,
   "id": "protected-event",
   "metadata": {},
   "outputs": [
    {
     "data": {
      "text/plain": [
       "{'model': 'Kmean+Log',\n",
       " 'accuracy': 0.6605907234261751,\n",
       " 'Roc_AUC': 0.566784645475894,\n",
       " 'precision': 0.5415632754342432,\n",
       " 'recall': 0.24805510376045933,\n",
       " 'f1': 0.34025939116994824}"
      ]
     },
     "execution_count": 102,
     "metadata": {},
     "output_type": "execute_result"
    }
   ],
   "source": [
    "metricas(modelo_15,'Kmean+Log',X_test,y_test)"
   ]
  },
  {
   "cell_type": "code",
   "execution_count": null,
   "id": "peripheral-irrigation",
   "metadata": {},
   "outputs": [],
   "source": []
  }
 ],
 "metadata": {
  "kernelspec": {
   "display_name": "Python 3",
   "language": "python",
   "name": "python3"
  },
  "language_info": {
   "codemirror_mode": {
    "name": "ipython",
    "version": 3
   },
   "file_extension": ".py",
   "mimetype": "text/x-python",
   "name": "python",
   "nbconvert_exporter": "python",
   "pygments_lexer": "ipython3",
   "version": "3.8.5"
  }
 },
 "nbformat": 4,
 "nbformat_minor": 5
}
